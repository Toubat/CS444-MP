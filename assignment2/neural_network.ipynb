{
 "cells": [
  {
   "cell_type": "markdown",
   "metadata": {},
   "source": [
    "# CS444 Assignment 2"
   ]
  },
  {
   "cell_type": "code",
   "execution_count": 13,
   "metadata": {},
   "outputs": [
    {
     "name": "stdout",
     "output_type": "stream",
     "text": [
      "The autoreload extension is already loaded. To reload it, use:\n",
      "  %reload_ext autoreload\n"
     ]
    }
   ],
   "source": [
    "import matplotlib.pyplot as plt\n",
    "import numpy as np\n",
    "\n",
    "from kaggle_submission import output_submission_csv\n",
    "from models.neural_net import NeuralNetwork\n",
    "from utils.data_process import get_FASHION_data\n",
    "\n",
    "%matplotlib inline\n",
    "plt.rcParams['figure.figsize'] = (10.0, 8.0)  # set default size of plots\n",
    "\n",
    "# For auto-reloading external modules\n",
    "# See http://stackoverflow.com/questions/1907993/autoreload-of-modules-in-ipython\n",
    "%load_ext autoreload\n",
    "%autoreload 2"
   ]
  },
  {
   "cell_type": "markdown",
   "metadata": {},
   "source": [
    "## Loading Fashion-MNIST\n",
    "Now that you have implemented a neural network that passes gradient checks and works on toy data, you will test your network on the Fashion-MNIST dataset."
   ]
  },
  {
   "cell_type": "code",
   "execution_count": 44,
   "metadata": {},
   "outputs": [],
   "source": [
    "# You can change these numbers for experimentation\n",
    "# For submission be sure they are set to the default values\n",
    "TRAIN_IMAGES = 50000\n",
    "VAL_IMAGES = 10000\n",
    "TEST_IMAGES = 10000\n",
    "\n",
    "data = get_FASHION_data(TRAIN_IMAGES, VAL_IMAGES, TEST_IMAGES)\n",
    "X_train, y_train = data['X_train'], data['y_train']\n",
    "X_val, y_val = data['X_val'], data['y_val']\n",
    "X_test, y_test = data['X_test'], data['y_test']"
   ]
  },
  {
   "cell_type": "markdown",
   "metadata": {},
   "source": [
    "## Train using SGD\n",
    "To train our network we will use SGD. In addition, we will adjust the learning rate with an exponential learning rate schedule as optimization proceeds; after each epoch, we will reduce the learning rate by multiplying it by a decay rate.\n",
    "\n",
    "You can try different numbers of layers and other hyperparameters on the Fashion-MNIST dataset below."
   ]
  },
  {
   "cell_type": "code",
   "execution_count": 89,
   "metadata": {},
   "outputs": [],
   "source": [
    "def train(num_layers, hidden_size, learning_rate, reg_const, opt = \"SGD\", log = False):\n",
    "    global X_train, y_train, X_val, y_val\n",
    "    \n",
    "    epochs = 100\n",
    "    input_size = 28 * 28\n",
    "    num_classes = 10\n",
    "    batch_size = 200\n",
    "    learning_rate_decay = 0.95\n",
    "    hidden_sizes = [hidden_size] * (num_layers - 1)\n",
    "    \n",
    "    # Initialize a new neural network model\n",
    "    net = NeuralNetwork(input_size, hidden_sizes, num_classes, num_layers)\n",
    "\n",
    "    # Variables to store performance for each epoch\n",
    "    train_loss = np.zeros(epochs)\n",
    "    train_accuracy = np.zeros(epochs)\n",
    "    val_accuracy = np.zeros(epochs)\n",
    "\n",
    "    # For each epoch...\n",
    "    for epoch in range(epochs):    \n",
    "        # Shuffle the dataset\n",
    "        indices = np.random.permutation(len(X_train))\n",
    "        X_train = X_train[indices]\n",
    "        y_train = y_train[indices]\n",
    "        \n",
    "        # Training\n",
    "        # For each mini-batch...\n",
    "        for batch in range(TRAIN_IMAGES // batch_size):\n",
    "            # Create a mini-batch of training data and labels\n",
    "            X_batch = X_train[batch * batch_size: (batch + 1) * batch_size]\n",
    "            y_batch = y_train[batch * batch_size: (batch + 1) * batch_size]\n",
    "            \n",
    "            # Run the forward pass of the model to get a prediction and compute the accuracy\n",
    "            score = net.forward(X_batch)\n",
    "            y_pred = np.argmax(score, axis=1)\n",
    "            train_accuracy[epoch] += (y_pred == y_batch).sum()\n",
    "\n",
    "            # Run the backward pass of the model to compute the loss, and update the weights\n",
    "            loss = net.backward(y_batch, reg_const)\n",
    "            train_loss[epoch] += loss\n",
    "\n",
    "            net.update(lr=learning_rate, opt=opt)\n",
    "\n",
    "        train_accuracy[epoch] /= TRAIN_IMAGES\n",
    "\n",
    "        if log:\n",
    "            print(f'Epoch {epoch + 1}/{epochs}: loss = {loss:.4f}, accuracy = {train_accuracy[epoch]:.4f}')\n",
    "\n",
    "        # Validation\n",
    "        # No need to run the backward pass here, just run the forward pass to compute accuracy\n",
    "        score = net.forward(X_val)\n",
    "        y_pred = np.argmax(score, axis=1)\n",
    "\n",
    "        val_accuracy[epoch] += (y_pred == y_val).sum() / len(y_val)\n",
    "        \n",
    "        # Implement learning rate decay\n",
    "        learning_rate *= learning_rate_decay\n",
    "    \n",
    "    return train_loss, train_accuracy, val_accuracy "
   ]
  },
  {
   "cell_type": "code",
   "execution_count": 96,
   "metadata": {},
   "outputs": [
    {
     "name": "stdout",
     "output_type": "stream",
     "text": [
      "Epoch 1/100: loss = 0.8954, accuracy = 0.7088\n",
      "Epoch 2/100: loss = 0.7446, accuracy = 0.7803\n",
      "Epoch 3/100: loss = 0.5675, accuracy = 0.8045\n",
      "Epoch 4/100: loss = 0.3973, accuracy = 0.8189\n",
      "Epoch 5/100: loss = 0.4900, accuracy = 0.8289\n",
      "Epoch 6/100: loss = 0.4375, accuracy = 0.8360\n",
      "Epoch 7/100: loss = 0.4064, accuracy = 0.8419\n",
      "Epoch 8/100: loss = 0.3454, accuracy = 0.8451\n",
      "Epoch 9/100: loss = 0.3738, accuracy = 0.8507\n",
      "Epoch 10/100: loss = 0.4057, accuracy = 0.8539\n",
      "Epoch 11/100: loss = 0.4188, accuracy = 0.8568\n",
      "Epoch 12/100: loss = 0.3616, accuracy = 0.8587\n",
      "Epoch 13/100: loss = 0.4169, accuracy = 0.8609\n",
      "Epoch 14/100: loss = 0.4283, accuracy = 0.8631\n",
      "Epoch 15/100: loss = 0.3238, accuracy = 0.8655\n",
      "Epoch 16/100: loss = 0.2488, accuracy = 0.8659\n",
      "Epoch 17/100: loss = 0.3502, accuracy = 0.8683\n",
      "Epoch 18/100: loss = 0.3898, accuracy = 0.8689\n",
      "Epoch 19/100: loss = 0.3846, accuracy = 0.8696\n",
      "Epoch 20/100: loss = 0.2785, accuracy = 0.8715\n",
      "Epoch 21/100: loss = 0.3121, accuracy = 0.8729\n",
      "Epoch 22/100: loss = 0.2879, accuracy = 0.8734\n",
      "Epoch 23/100: loss = 0.2679, accuracy = 0.8737\n",
      "Epoch 24/100: loss = 0.3417, accuracy = 0.8752\n",
      "Epoch 25/100: loss = 0.1979, accuracy = 0.8749\n",
      "Epoch 26/100: loss = 0.2838, accuracy = 0.8764\n",
      "Epoch 27/100: loss = 0.2537, accuracy = 0.8775\n",
      "Epoch 28/100: loss = 0.3008, accuracy = 0.8773\n",
      "Epoch 29/100: loss = 0.2863, accuracy = 0.8783\n",
      "Epoch 30/100: loss = 0.3242, accuracy = 0.8792\n",
      "Epoch 31/100: loss = 0.2808, accuracy = 0.8797\n",
      "Epoch 32/100: loss = 0.3892, accuracy = 0.8793\n",
      "Epoch 33/100: loss = 0.2667, accuracy = 0.8804\n",
      "Epoch 34/100: loss = 0.3814, accuracy = 0.8804\n",
      "Epoch 35/100: loss = 0.2757, accuracy = 0.8802\n",
      "Epoch 36/100: loss = 0.4000, accuracy = 0.8803\n",
      "Epoch 37/100: loss = 0.3298, accuracy = 0.8811\n",
      "Epoch 38/100: loss = 0.2820, accuracy = 0.8814\n",
      "Epoch 39/100: loss = 0.2962, accuracy = 0.8818\n",
      "Epoch 40/100: loss = 0.1949, accuracy = 0.8821\n",
      "Epoch 41/100: loss = 0.3237, accuracy = 0.8827\n",
      "Epoch 42/100: loss = 0.2763, accuracy = 0.8826\n",
      "Epoch 43/100: loss = 0.3541, accuracy = 0.8830\n",
      "Epoch 44/100: loss = 0.3198, accuracy = 0.8829\n",
      "Epoch 45/100: loss = 0.2531, accuracy = 0.8837\n",
      "Epoch 46/100: loss = 0.3810, accuracy = 0.8836\n",
      "Epoch 47/100: loss = 0.5530, accuracy = 0.8834\n",
      "Epoch 48/100: loss = 0.2117, accuracy = 0.8838\n",
      "Epoch 49/100: loss = 0.2693, accuracy = 0.8842\n",
      "Epoch 50/100: loss = 0.2961, accuracy = 0.8842\n",
      "Epoch 51/100: loss = 0.3785, accuracy = 0.8843\n",
      "Epoch 52/100: loss = 0.3922, accuracy = 0.8843\n",
      "Epoch 53/100: loss = 0.4095, accuracy = 0.8848\n",
      "Epoch 54/100: loss = 0.2891, accuracy = 0.8850\n",
      "Epoch 55/100: loss = 0.2590, accuracy = 0.8846\n",
      "Epoch 56/100: loss = 0.2966, accuracy = 0.8851\n",
      "Epoch 57/100: loss = 0.3133, accuracy = 0.8852\n",
      "Epoch 58/100: loss = 0.3339, accuracy = 0.8850\n",
      "Epoch 59/100: loss = 0.3204, accuracy = 0.8855\n",
      "Epoch 60/100: loss = 0.2420, accuracy = 0.8853\n",
      "Epoch 61/100: loss = 0.2522, accuracy = 0.8852\n",
      "Epoch 62/100: loss = 0.3197, accuracy = 0.8856\n",
      "Epoch 63/100: loss = 0.2534, accuracy = 0.8854\n",
      "Epoch 64/100: loss = 0.2417, accuracy = 0.8856\n",
      "Epoch 65/100: loss = 0.3900, accuracy = 0.8854\n",
      "Epoch 66/100: loss = 0.2270, accuracy = 0.8856\n",
      "Epoch 67/100: loss = 0.2431, accuracy = 0.8857\n",
      "Epoch 68/100: loss = 0.3374, accuracy = 0.8862\n",
      "Epoch 69/100: loss = 0.4238, accuracy = 0.8859\n",
      "Epoch 70/100: loss = 0.3171, accuracy = 0.8858\n",
      "Epoch 71/100: loss = 0.2619, accuracy = 0.8854\n",
      "Epoch 72/100: loss = 0.3600, accuracy = 0.8861\n",
      "Epoch 73/100: loss = 0.3413, accuracy = 0.8861\n",
      "Epoch 74/100: loss = 0.2763, accuracy = 0.8865\n",
      "Epoch 75/100: loss = 0.2746, accuracy = 0.8863\n",
      "Epoch 76/100: loss = 0.2498, accuracy = 0.8862\n",
      "Epoch 77/100: loss = 0.2460, accuracy = 0.8861\n",
      "Epoch 78/100: loss = 0.3124, accuracy = 0.8861\n",
      "Epoch 79/100: loss = 0.3370, accuracy = 0.8861\n",
      "Epoch 80/100: loss = 0.2340, accuracy = 0.8865\n",
      "Epoch 81/100: loss = 0.2116, accuracy = 0.8862\n",
      "Epoch 82/100: loss = 0.3360, accuracy = 0.8864\n",
      "Epoch 83/100: loss = 0.3492, accuracy = 0.8863\n",
      "Epoch 84/100: loss = 0.2803, accuracy = 0.8863\n",
      "Epoch 85/100: loss = 0.2935, accuracy = 0.8863\n",
      "Epoch 86/100: loss = 0.3047, accuracy = 0.8866\n",
      "Epoch 87/100: loss = 0.2347, accuracy = 0.8865\n",
      "Epoch 88/100: loss = 0.2510, accuracy = 0.8864\n",
      "Epoch 89/100: loss = 0.4176, accuracy = 0.8864\n",
      "Epoch 90/100: loss = 0.2968, accuracy = 0.8865\n",
      "Epoch 91/100: loss = 0.3652, accuracy = 0.8866\n",
      "Epoch 92/100: loss = 0.2982, accuracy = 0.8868\n",
      "Epoch 93/100: loss = 0.2085, accuracy = 0.8866\n",
      "Epoch 94/100: loss = 0.2859, accuracy = 0.8865\n",
      "Epoch 95/100: loss = 0.3613, accuracy = 0.8865\n",
      "Epoch 96/100: loss = 0.2884, accuracy = 0.8868\n",
      "Epoch 97/100: loss = 0.2873, accuracy = 0.8865\n",
      "Epoch 98/100: loss = 0.3297, accuracy = 0.8866\n",
      "Epoch 99/100: loss = 0.3037, accuracy = 0.8866\n",
      "Epoch 100/100: loss = 0.3503, accuracy = 0.8865\n"
     ]
    }
   ],
   "source": [
    "train_loss, train_accuracy, val_accuracy = train(3, 32, 1e-5, 0.2, \"SGD\", True)"
   ]
  },
  {
   "cell_type": "markdown",
   "metadata": {},
   "source": [
    "## Train using Adam\n",
    "Next we will train the same model using the Adam optimizer. You should take the above code for SGD and modify it to use Adam instead. For implementation details, see the lecture slides. The original paper that introduced Adam is also a good reference, and contains suggestions for default values: https://arxiv.org/pdf/1412.6980.pdf"
   ]
  },
  {
   "cell_type": "code",
   "execution_count": 98,
   "metadata": {},
   "outputs": [
    {
     "name": "stdout",
     "output_type": "stream",
     "text": [
      "Epoch 1/100: loss = 1.1596, accuracy = 0.7300\n",
      "Epoch 2/100: loss = 0.4851, accuracy = 0.7987\n",
      "Epoch 3/100: loss = 0.5728, accuracy = 0.8269\n",
      "Epoch 4/100: loss = 0.5858, accuracy = 0.8452\n",
      "Epoch 5/100: loss = 0.4335, accuracy = 0.8556\n",
      "Epoch 6/100: loss = 0.3290, accuracy = 0.8619\n",
      "Epoch 7/100: loss = 0.3727, accuracy = 0.8708\n",
      "Epoch 8/100: loss = 0.3550, accuracy = 0.8771\n",
      "Epoch 9/100: loss = 0.4009, accuracy = 0.8814\n",
      "Epoch 10/100: loss = 0.3311, accuracy = 0.8870\n",
      "Epoch 11/100: loss = 0.3930, accuracy = 0.8884\n",
      "Epoch 12/100: loss = 0.3115, accuracy = 0.8926\n",
      "Epoch 13/100: loss = 0.2299, accuracy = 0.8958\n",
      "Epoch 14/100: loss = 0.2550, accuracy = 0.8959\n",
      "Epoch 15/100: loss = 0.2921, accuracy = 0.8992\n",
      "Epoch 16/100: loss = 0.2377, accuracy = 0.9021\n",
      "Epoch 17/100: loss = 0.3389, accuracy = 0.9042\n",
      "Epoch 18/100: loss = 0.2422, accuracy = 0.9084\n",
      "Epoch 19/100: loss = 0.2368, accuracy = 0.9093\n",
      "Epoch 20/100: loss = 0.2398, accuracy = 0.9126\n",
      "Epoch 21/100: loss = 0.2728, accuracy = 0.9145\n",
      "Epoch 22/100: loss = 0.2764, accuracy = 0.9163\n",
      "Epoch 23/100: loss = 0.2043, accuracy = 0.9194\n",
      "Epoch 24/100: loss = 0.1840, accuracy = 0.9206\n",
      "Epoch 25/100: loss = 0.1724, accuracy = 0.9223\n",
      "Epoch 26/100: loss = 0.1855, accuracy = 0.9246\n",
      "Epoch 27/100: loss = 0.1496, accuracy = 0.9256\n",
      "Epoch 28/100: loss = 0.2474, accuracy = 0.9279\n",
      "Epoch 29/100: loss = 0.1852, accuracy = 0.9301\n",
      "Epoch 30/100: loss = 0.2038, accuracy = 0.9304\n",
      "Epoch 31/100: loss = 0.1644, accuracy = 0.9327\n",
      "Epoch 32/100: loss = 0.2209, accuracy = 0.9333\n",
      "Epoch 33/100: loss = 0.1804, accuracy = 0.9347\n",
      "Epoch 34/100: loss = 0.2124, accuracy = 0.9362\n",
      "Epoch 35/100: loss = 0.1531, accuracy = 0.9377\n",
      "Epoch 36/100: loss = 0.1261, accuracy = 0.9396\n",
      "Epoch 37/100: loss = 0.1662, accuracy = 0.9401\n",
      "Epoch 38/100: loss = 0.1534, accuracy = 0.9422\n",
      "Epoch 39/100: loss = 0.1580, accuracy = 0.9433\n",
      "Epoch 40/100: loss = 0.1541, accuracy = 0.9439\n",
      "Epoch 41/100: loss = 0.1983, accuracy = 0.9441\n",
      "Epoch 42/100: loss = 0.1419, accuracy = 0.9460\n",
      "Epoch 43/100: loss = 0.0947, accuracy = 0.9469\n",
      "Epoch 44/100: loss = 0.1930, accuracy = 0.9485\n",
      "Epoch 45/100: loss = 0.1687, accuracy = 0.9489\n",
      "Epoch 46/100: loss = 0.0991, accuracy = 0.9494\n",
      "Epoch 47/100: loss = 0.1506, accuracy = 0.9501\n",
      "Epoch 48/100: loss = 0.1681, accuracy = 0.9519\n",
      "Epoch 49/100: loss = 0.1503, accuracy = 0.9515\n",
      "Epoch 50/100: loss = 0.1471, accuracy = 0.9520\n",
      "Epoch 51/100: loss = 0.0998, accuracy = 0.9529\n",
      "Epoch 52/100: loss = 0.2051, accuracy = 0.9536\n",
      "Epoch 53/100: loss = 0.1223, accuracy = 0.9537\n",
      "Epoch 54/100: loss = 0.1608, accuracy = 0.9545\n",
      "Epoch 55/100: loss = 0.1815, accuracy = 0.9552\n",
      "Epoch 56/100: loss = 0.1605, accuracy = 0.9557\n",
      "Epoch 57/100: loss = 0.1185, accuracy = 0.9561\n",
      "Epoch 58/100: loss = 0.1233, accuracy = 0.9568\n",
      "Epoch 59/100: loss = 0.0989, accuracy = 0.9568\n",
      "Epoch 60/100: loss = 0.0776, accuracy = 0.9566\n",
      "Epoch 61/100: loss = 0.1648, accuracy = 0.9571\n",
      "Epoch 62/100: loss = 0.1115, accuracy = 0.9582\n",
      "Epoch 63/100: loss = 0.1319, accuracy = 0.9586\n",
      "Epoch 64/100: loss = 0.0471, accuracy = 0.9587\n",
      "Epoch 65/100: loss = 0.0817, accuracy = 0.9586\n",
      "Epoch 66/100: loss = 0.1178, accuracy = 0.9595\n",
      "Epoch 67/100: loss = 0.1255, accuracy = 0.9598\n",
      "Epoch 68/100: loss = 0.1018, accuracy = 0.9600\n",
      "Epoch 69/100: loss = 0.0995, accuracy = 0.9601\n",
      "Epoch 70/100: loss = 0.0995, accuracy = 0.9608\n",
      "Epoch 71/100: loss = 0.1834, accuracy = 0.9608\n",
      "Epoch 72/100: loss = 0.1590, accuracy = 0.9611\n",
      "Epoch 73/100: loss = 0.1385, accuracy = 0.9614\n",
      "Epoch 74/100: loss = 0.0871, accuracy = 0.9608\n",
      "Epoch 75/100: loss = 0.1005, accuracy = 0.9612\n",
      "Epoch 76/100: loss = 0.0960, accuracy = 0.9617\n",
      "Epoch 77/100: loss = 0.1119, accuracy = 0.9617\n",
      "Epoch 78/100: loss = 0.0594, accuracy = 0.9620\n",
      "Epoch 79/100: loss = 0.1271, accuracy = 0.9623\n",
      "Epoch 80/100: loss = 0.0676, accuracy = 0.9622\n",
      "Epoch 81/100: loss = 0.0924, accuracy = 0.9623\n",
      "Epoch 82/100: loss = 0.1061, accuracy = 0.9620\n",
      "Epoch 83/100: loss = 0.1207, accuracy = 0.9627\n",
      "Epoch 84/100: loss = 0.1114, accuracy = 0.9627\n",
      "Epoch 85/100: loss = 0.1273, accuracy = 0.9631\n",
      "Epoch 86/100: loss = 0.1502, accuracy = 0.9632\n",
      "Epoch 87/100: loss = 0.1764, accuracy = 0.9635\n",
      "Epoch 88/100: loss = 0.1013, accuracy = 0.9636\n",
      "Epoch 89/100: loss = 0.0883, accuracy = 0.9634\n",
      "Epoch 90/100: loss = 0.0883, accuracy = 0.9634\n",
      "Epoch 91/100: loss = 0.1066, accuracy = 0.9640\n",
      "Epoch 92/100: loss = 0.1230, accuracy = 0.9638\n",
      "Epoch 93/100: loss = 0.0828, accuracy = 0.9637\n",
      "Epoch 94/100: loss = 0.0967, accuracy = 0.9640\n",
      "Epoch 95/100: loss = 0.0998, accuracy = 0.9638\n",
      "Epoch 96/100: loss = 0.0808, accuracy = 0.9639\n",
      "Epoch 97/100: loss = 0.1760, accuracy = 0.9641\n",
      "Epoch 98/100: loss = 0.0465, accuracy = 0.9641\n",
      "Epoch 99/100: loss = 0.0847, accuracy = 0.9644\n",
      "Epoch 100/100: loss = 0.1303, accuracy = 0.9643\n"
     ]
    }
   ],
   "source": [
    "train_loss, train_accuracy, val_accuracy = train(3, 32, 0.001, 0.2, \"Adam\", True)"
   ]
  },
  {
   "cell_type": "markdown",
   "metadata": {},
   "source": [
    "## Graph loss and train/val accuracies\n",
    "\n",
    "Examining the loss graph along with the train and val accuracy graphs should help you gain some intuition for the hyperparameters you should try in the hyperparameter tuning below. It should also help with debugging any issues you might have with your network."
   ]
  },
  {
   "cell_type": "code",
   "execution_count": 99,
   "metadata": {},
   "outputs": [
    {
     "data": {
      "image/png": "[encoded data removed]",
      "text/plain": [
       "<Figure size 720x576 with 2 Axes>"
      ]
     },
     "metadata": {
      "needs_background": "light"
     },
     "output_type": "display_data"
    }
   ],
   "source": [
    "# Plot the loss function and train / validation accuracies\n",
    "plt.subplot(2, 1, 1)\n",
    "plt.plot(train_loss)\n",
    "plt.title('Loss history')\n",
    "plt.xlabel('Iteration')\n",
    "plt.ylabel('Loss')\n",
    "\n",
    "plt.subplot(2, 1, 2)\n",
    "plt.plot(train_accuracy, label='train')\n",
    "plt.plot(val_accuracy, label='val')\n",
    "plt.title('Classification accuracy history')\n",
    "plt.xlabel('Epoch')\n",
    "plt.ylabel('Classification accuracy')\n",
    "plt.legend()\n",
    "\n",
    "plt.tight_layout()\n",
    "plt.show()"
   ]
  },
  {
   "cell_type": "markdown",
   "metadata": {},
   "source": [
    "## Hyperparameter tuning\n",
    "\n",
    "Once you have successfully trained a network you can tune your hyparameters to increase your accuracy.\n",
    "\n",
    "Based on the graphs of the loss function above you should be able to develop some intuition about what hyperparameter adjustments may be necessary. A very noisy loss implies that the learning rate might be too high, while a linearly decreasing loss would suggest that the learning rate may be too low. A large gap between training and validation accuracy would suggest overfitting due to a large model without much regularization. No gap between training and validation accuracy would indicate low model capacity. \n",
    "\n",
    "You will compare networks of two and three layers using the different optimization methods you implemented. \n",
    "\n",
    "The different hyperparameters you can experiment with are:\n",
    "- **Batch size**: We recommend you leave this at 200 initially which is the batch size we used. \n",
    "- **Number of iterations**: You can gain an intuition for how many iterations to run by checking when the validation accuracy plateaus in your train/val accuracy graph.\n",
    "- **Initialization** Weight initialization is very important for neural networks. We used the initialization `W = np.random.randn(n) / sqrt(n)` where `n` is the input dimension for layer corresponding to `W`. We recommend you stick with the given initializations, but you may explore modifying these. Typical initialization practices: http://cs231n.github.io/neural-networks-2/#init\n",
    "- **Learning rate**: Generally from around 1e-4 to 1e-1 is a good range to explore according to our implementation.\n",
    "- **Learning rate decay**: We recommend a 0.95 decay to start.\n",
    "- **Hidden layer size**: You should explore up to around 120 units per layer. For three-layer network, we fixed the two hidden layers to be the same size when obtaining the target numbers. However, you may experiment with having different size hidden layers.\n",
    "- **Regularization coefficient**: We recommend trying values in the range 0 to 0.1. \n",
    "\n",
    "Hints:\n",
    "- After getting a sense of the parameters by trying a few values yourself, you will likely want to write a few for-loops to traverse over a set of hyperparameters.\n",
    "- If you find that your train loss is decreasing, but your train and val accuracy start to decrease rather than increase, your model likely started minimizing the regularization term. To prevent this you will need to decrease the regularization coefficient. "
   ]
  },
  {
   "cell_type": "code",
   "execution_count": null,
   "metadata": {},
   "outputs": [],
   "source": [
    "reg_consts = [0.0, 0.01, 0.05, 0.1, 0.2]\n",
    "hidden_sizes = [16, 32, 48, 64, 100, 128]\n",
    "learning_rates = [1e-6, 1e-5, 1e-4, 1e-2, 1e-1]\n",
    "\n",
    "for reg_const in reg_consts:\n",
    "    for hidden_size in hidden_sizes:\n",
    "        for learning_rate in learning_rates:\n",
    "            a = 1"
   ]
  },
  {
   "cell_type": "markdown",
   "metadata": {},
   "source": [
    "## Run on the test set\n",
    "When you are done experimenting, you should evaluate your final trained networks on the test set."
   ]
  },
  {
   "cell_type": "code",
   "execution_count": null,
   "metadata": {},
   "outputs": [],
   "source": [
    "best_2layer_sgd_prediction = None\n",
    "best_3layer_sgd_prediction = None\n",
    "best_2layer_adam_prediction = None\n",
    "best_3layer_adam_prediction = None"
   ]
  },
  {
   "cell_type": "markdown",
   "metadata": {},
   "source": [
    "## Kaggle output\n",
    "\n",
    "Once you are satisfied with your solution and test accuracy, output a file to submit your test set predictions to the Kaggle for Assignment 2 Neural Network. Use the following code to do so:"
   ]
  },
  {
   "cell_type": "code",
   "execution_count": null,
   "metadata": {},
   "outputs": [],
   "source": [
    "output_submission_csv('./nn_2layer_sgd_submission.csv', best_2layer_sgd_prediction)\n",
    "output_submission_csv('./nn_3layer_sgd_submission.csv', best_2layer_sgd_prediction)\n",
    "output_submission_csv('./nn_2layer_adam_submission.csv', best_2layer_sgd_prediction)\n",
    "output_submission_csv('./nn_3layer_adam_submission.csv', best_2layer_sgd_prediction)"
   ]
  },
  {
   "cell_type": "markdown",
   "metadata": {},
   "source": [
    "## Compare SGD and Adam\n",
    "Create graphs to compare training loss and validation accuracy between SGD and Adam. The code is similar to the above code, but instead of comparing train and validation, we are comparing SGD and Adam."
   ]
  },
  {
   "cell_type": "code",
   "execution_count": null,
   "metadata": {},
   "outputs": [],
   "source": [
    "# TODO: implement me"
   ]
  }
 ],
 "metadata": {
  "kernelspec": {
   "display_name": "Python 3",
   "language": "python",
   "name": "python3"
  },
  "language_info": {
   "codemirror_mode": {
    "name": "ipython",
    "version": 3
   },
   "file_extension": ".py",
   "mimetype": "text/x-python",
   "name": "python",
   "nbconvert_exporter": "python",
   "pygments_lexer": "ipython3",
   "version": "3.10.2"
  }
 },
 "nbformat": 4,
 "nbformat_minor": 1
}
