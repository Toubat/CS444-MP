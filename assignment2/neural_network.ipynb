{
 "cells": [
  {
   "cell_type": "markdown",
   "metadata": {},
   "source": [
    "# CS444 Assignment 2"
   ]
  },
  {
   "cell_type": "code",
   "execution_count": 25,
   "metadata": {},
   "outputs": [
    {
     "name": "stdout",
     "output_type": "stream",
     "text": [
      "The autoreload extension is already loaded. To reload it, use:\n",
      "  %reload_ext autoreload\n"
     ]
    }
   ],
   "source": [
    "import matplotlib.pyplot as plt\n",
    "import numpy as np\n",
    "import os\n",
    "\n",
    "from kaggle_submission import output_submission_csv\n",
    "from models.neural_net import NeuralNetwork\n",
    "from utils.data_process import get_FASHION_data\n",
    "\n",
    "%matplotlib inline\n",
    "plt.rcParams['figure.figsize'] = (10.0, 8.0)  # set default size of plots\n",
    "\n",
    "# For auto-reloading external modules\n",
    "# See http://stackoverflow.com/questions/1907993/autoreload-of-modules-in-ipython\n",
    "%load_ext autoreload\n",
    "%autoreload 2"
   ]
  },
  {
   "cell_type": "markdown",
   "metadata": {},
   "source": [
    "## Loading Fashion-MNIST\n",
    "Now that you have implemented a neural network that passes gradient checks and works on toy data, you will test your network on the Fashion-MNIST dataset."
   ]
  },
  {
   "cell_type": "code",
   "execution_count": 26,
   "metadata": {},
   "outputs": [],
   "source": [
    "# You can change these numbers for experimentation\n",
    "# For submission be sure they are set to the default values\n",
    "TRAIN_IMAGES = 50000\n",
    "VAL_IMAGES = 10000\n",
    "TEST_IMAGES = 10000\n",
    "\n",
    "data = get_FASHION_data(TRAIN_IMAGES, VAL_IMAGES, TEST_IMAGES)\n",
    "X_train, y_train = data['X_train'], data['y_train']\n",
    "X_val, y_val = data['X_val'], data['y_val']\n",
    "X_test, y_test = data['X_test'], data['y_test']"
   ]
  },
  {
   "cell_type": "markdown",
   "metadata": {},
   "source": [
    "## Train using SGD\n",
    "To train our network we will use SGD. In addition, we will adjust the learning rate with an exponential learning rate schedule as optimization proceeds; after each epoch, we will reduce the learning rate by multiplying it by a decay rate.\n",
    "\n",
    "You can try different numbers of layers and other hyperparameters on the Fashion-MNIST dataset below."
   ]
  },
  {
   "cell_type": "code",
   "execution_count": 44,
   "metadata": {},
   "outputs": [],
   "source": [
    "def train(num_layers, hidden_size, learning_rate, reg_const, opt = \"SGD\", log = False):\n",
    "    global X_train, y_train, X_val, y_val\n",
    "    \n",
    "    epochs = 100\n",
    "    input_size = 28 * 28\n",
    "    num_classes = 10\n",
    "    batch_size = 200\n",
    "    learning_rate_decay = 0.95\n",
    "    hidden_sizes = [hidden_size] * (num_layers - 1)\n",
    "    \n",
    "    # Initialize a new neural network model\n",
    "    net = NeuralNetwork(input_size, hidden_sizes, num_classes, num_layers)\n",
    "\n",
    "    # Variables to store performance for each epoch\n",
    "    train_loss = np.zeros(epochs)\n",
    "    train_accuracy = np.zeros(epochs)\n",
    "    val_accuracy = np.zeros(epochs)\n",
    "\n",
    "    # For each epoch...\n",
    "    for epoch in range(epochs):    \n",
    "        # Shuffle the dataset\n",
    "        indices = np.random.permutation(len(X_train))\n",
    "        X_train = X_train[indices]\n",
    "        y_train = y_train[indices]\n",
    "        \n",
    "        # Training\n",
    "        # For each mini-batch...\n",
    "        for batch in range(TRAIN_IMAGES // batch_size):\n",
    "            # Create a mini-batch of training data and labels\n",
    "            X_batch = X_train[batch * batch_size: (batch + 1) * batch_size]\n",
    "            y_batch = y_train[batch * batch_size: (batch + 1) * batch_size]\n",
    "            \n",
    "            # Run the forward pass of the model to get a prediction and compute the accuracy\n",
    "            score = net.forward(X_batch)\n",
    "            y_pred = np.argmax(score, axis=1)\n",
    "            train_accuracy[epoch] += (y_pred == y_batch).sum()\n",
    "\n",
    "            # Run the backward pass of the model to compute the loss, and update the weights\n",
    "            loss = net.backward(y_batch, reg_const)\n",
    "            train_loss[epoch] += loss\n",
    "\n",
    "            net.update(lr=learning_rate, opt=opt)\n",
    "\n",
    "        train_accuracy[epoch] /= TRAIN_IMAGES\n",
    "\n",
    "        if log:\n",
    "            print(f'Epoch {epoch + 1}/{epochs}: loss = {loss:.4f}, accuracy = {train_accuracy[epoch]:.4f}')\n",
    "\n",
    "        # Validation\n",
    "        # No need to run the backward pass here, just run the forward pass to compute accuracy\n",
    "        score = net.forward(X_val)\n",
    "        y_pred = np.argmax(score, axis=1)\n",
    "\n",
    "        val_accuracy[epoch] += (y_pred == y_val).sum() / len(y_val)\n",
    "        \n",
    "        # Implement learning rate decay\n",
    "        learning_rate *= learning_rate_decay\n",
    "    \n",
    "    return train_loss, train_accuracy, val_accuracy, net"
   ]
  },
  {
   "cell_type": "code",
   "execution_count": 5,
   "metadata": {},
   "outputs": [],
   "source": [
    "def get_acc(net):\n",
    "    y_test_pred = np.argmax(net.forward(X_test), axis=1)\n",
    "    y_val_pred = np.argmax(net.forward(X_val), axis=1)\n",
    "\n",
    "    test_acc = (y_test_pred == y_test).sum() / len(y_test)\n",
    "    val_acc = (y_val_pred == y_val).sum() / len(y_val)\n",
    "\n",
    "    return val_acc, test_acc"
   ]
  },
  {
   "cell_type": "code",
   "execution_count": null,
   "metadata": {},
   "outputs": [],
   "source": [
    "train_loss, train_acc, val_acc, net = train(3, 32, 1e-3, 0.2, \"SGD\", True)\n",
    "get_acc(net)"
   ]
  },
  {
   "cell_type": "markdown",
   "metadata": {},
   "source": [
    "## Train using Adam\n",
    "Next we will train the same model using the Adam optimizer. You should take the above code for SGD and modify it to use Adam instead. For implementation details, see the lecture slides. The original paper that introduced Adam is also a good reference, and contains suggestions for default values: https://arxiv.org/pdf/1412.6980.pdf"
   ]
  },
  {
   "cell_type": "code",
   "execution_count": 24,
   "metadata": {},
   "outputs": [
    {
     "name": "stdout",
     "output_type": "stream",
     "text": [
      "Epoch 1/80: loss = 0.3575, accuracy = 0.8206\n",
      "Epoch 2/80: loss = 0.3476, accuracy = 0.8711\n",
      "Epoch 3/80: loss = 0.2674, accuracy = 0.8811\n",
      "Epoch 4/80: loss = 0.3844, accuracy = 0.8895\n",
      "Epoch 5/80: loss = 0.3560, accuracy = 0.8966\n",
      "Epoch 6/80: loss = 0.2635, accuracy = 0.9015\n",
      "Epoch 7/80: loss = 0.2139, accuracy = 0.9067\n",
      "Epoch 8/80: loss = 0.2168, accuracy = 0.9105\n",
      "Epoch 9/80: loss = 0.2286, accuracy = 0.9113\n",
      "Epoch 10/80: loss = 0.2051, accuracy = 0.9170\n",
      "Epoch 11/80: loss = 0.2381, accuracy = 0.9203\n",
      "Epoch 12/80: loss = 0.2468, accuracy = 0.9229\n",
      "Epoch 13/80: loss = 0.2341, accuracy = 0.9265\n",
      "Epoch 14/80: loss = 0.1843, accuracy = 0.9285\n",
      "Epoch 15/80: loss = 0.1713, accuracy = 0.9333\n",
      "Epoch 16/80: loss = 0.2105, accuracy = 0.9347\n",
      "Epoch 17/80: loss = 0.1712, accuracy = 0.9368\n",
      "Epoch 18/80: loss = 0.1617, accuracy = 0.9382\n",
      "Epoch 19/80: loss = 0.1887, accuracy = 0.9405\n",
      "Epoch 20/80: loss = 0.2883, accuracy = 0.9432\n",
      "Epoch 21/80: loss = 0.1474, accuracy = 0.9440\n",
      "Epoch 22/80: loss = 0.1699, accuracy = 0.9468\n",
      "Epoch 23/80: loss = 0.2102, accuracy = 0.9486\n",
      "Epoch 24/80: loss = 0.1062, accuracy = 0.9498\n",
      "Epoch 25/80: loss = 0.1932, accuracy = 0.9514\n",
      "Epoch 26/80: loss = 0.1626, accuracy = 0.9527\n",
      "Epoch 27/80: loss = 0.1149, accuracy = 0.9529\n",
      "Epoch 28/80: loss = 0.1276, accuracy = 0.9544\n",
      "Epoch 29/80: loss = 0.1029, accuracy = 0.9576\n",
      "Epoch 30/80: loss = 0.0791, accuracy = 0.9580\n",
      "Epoch 31/80: loss = 0.1843, accuracy = 0.9596\n",
      "Epoch 32/80: loss = 0.1588, accuracy = 0.9594\n",
      "Epoch 33/80: loss = 0.0942, accuracy = 0.9612\n",
      "Epoch 34/80: loss = 0.1287, accuracy = 0.9624\n",
      "Epoch 35/80: loss = 0.1031, accuracy = 0.9635\n",
      "Epoch 36/80: loss = 0.1481, accuracy = 0.9643\n",
      "Epoch 37/80: loss = 0.1325, accuracy = 0.9662\n",
      "Epoch 38/80: loss = 0.0816, accuracy = 0.9653\n",
      "Epoch 39/80: loss = 0.1136, accuracy = 0.9663\n",
      "Epoch 40/80: loss = 0.1118, accuracy = 0.9686\n",
      "Epoch 41/80: loss = 0.1184, accuracy = 0.9685\n",
      "Epoch 42/80: loss = 0.0998, accuracy = 0.9690\n",
      "Epoch 43/80: loss = 0.1277, accuracy = 0.9688\n",
      "Epoch 44/80: loss = 0.1031, accuracy = 0.9703\n",
      "Epoch 45/80: loss = 0.1064, accuracy = 0.9711\n",
      "Epoch 46/80: loss = 0.1073, accuracy = 0.9714\n",
      "Epoch 47/80: loss = 0.1667, accuracy = 0.9719\n",
      "Epoch 48/80: loss = 0.0900, accuracy = 0.9713\n",
      "Epoch 49/80: loss = 0.1120, accuracy = 0.9719\n",
      "Epoch 50/80: loss = 0.1169, accuracy = 0.9729\n",
      "Epoch 51/80: loss = 0.1177, accuracy = 0.9726\n",
      "Epoch 52/80: loss = 0.0672, accuracy = 0.9729\n",
      "Epoch 53/80: loss = 0.0732, accuracy = 0.9735\n",
      "Epoch 54/80: loss = 0.1016, accuracy = 0.9749\n",
      "Epoch 55/80: loss = 0.0870, accuracy = 0.9751\n",
      "Epoch 56/80: loss = 0.0711, accuracy = 0.9748\n",
      "Epoch 57/80: loss = 0.0796, accuracy = 0.9749\n",
      "Epoch 58/80: loss = 0.1006, accuracy = 0.9759\n",
      "Epoch 59/80: loss = 0.0633, accuracy = 0.9762\n",
      "Epoch 60/80: loss = 0.0958, accuracy = 0.9764\n",
      "Epoch 61/80: loss = 0.0872, accuracy = 0.9761\n",
      "Epoch 62/80: loss = 0.0984, accuracy = 0.9763\n",
      "Epoch 63/80: loss = 0.0686, accuracy = 0.9776\n",
      "Epoch 64/80: loss = 0.1188, accuracy = 0.9771\n",
      "Epoch 65/80: loss = 0.0677, accuracy = 0.9779\n",
      "Epoch 66/80: loss = 0.0973, accuracy = 0.9779\n",
      "Epoch 67/80: loss = 0.0719, accuracy = 0.9785\n",
      "Epoch 68/80: loss = 0.1341, accuracy = 0.9785\n",
      "Epoch 69/80: loss = 0.0611, accuracy = 0.9774\n",
      "Epoch 70/80: loss = 0.0716, accuracy = 0.9784\n",
      "Epoch 71/80: loss = 0.0759, accuracy = 0.9787\n",
      "Epoch 72/80: loss = 0.0612, accuracy = 0.9782\n",
      "Epoch 73/80: loss = 0.0770, accuracy = 0.9786\n",
      "Epoch 74/80: loss = 0.0750, accuracy = 0.9787\n",
      "Epoch 75/80: loss = 0.0743, accuracy = 0.9787\n",
      "Epoch 76/80: loss = 0.0818, accuracy = 0.9797\n",
      "Epoch 77/80: loss = 0.0776, accuracy = 0.9794\n",
      "Epoch 78/80: loss = 0.1079, accuracy = 0.9798\n",
      "Epoch 79/80: loss = 0.0645, accuracy = 0.9793\n",
      "Epoch 80/80: loss = 0.0521, accuracy = 0.9798\n"
     ]
    },
    {
     "data": {
      "text/plain": [
       "(0.8934, 0.8898)"
      ]
     },
     "execution_count": 24,
     "metadata": {},
     "output_type": "execute_result"
    }
   ],
   "source": [
    "train_loss, train_acc, val_acc, net = train(3, 100, 0.001, 0.2, \"Adam\", True)\n",
    "get_acc(net)"
   ]
  },
  {
   "cell_type": "markdown",
   "metadata": {},
   "source": [
    "## Graph loss and train/val accuracies\n",
    "\n",
    "Examining the loss graph along with the train and val accuracy graphs should help you gain some intuition for the hyperparameters you should try in the hyperparameter tuning below. It should also help with debugging any issues you might have with your network."
   ]
  },
  {
   "cell_type": "code",
   "execution_count": 27,
   "metadata": {},
   "outputs": [
    {
     "data": {
      "image/png": "[encoded data removed]",
      "text/plain": [
       "<Figure size 720x576 with 2 Axes>"
      ]
     },
     "metadata": {
      "needs_background": "light"
     },
     "output_type": "display_data"
    }
   ],
   "source": [
    "# Plot the loss function and train / validation accuracies\n",
    "plt.subplot(2, 1, 1)\n",
    "plt.plot(train_loss)\n",
    "plt.title('Loss history')\n",
    "plt.xlabel('Iteration')\n",
    "plt.ylabel('Loss')\n",
    "\n",
    "plt.subplot(2, 1, 2)\n",
    "plt.plot(train_acc, label='train')\n",
    "plt.plot(val_acc, label='val')\n",
    "plt.title('Classification accuracy history')\n",
    "plt.xlabel('Epoch')\n",
    "plt.ylabel('Classification accuracy')\n",
    "plt.legend()\n",
    "\n",
    "plt.tight_layout()\n",
    "plt.show()"
   ]
  },
  {
   "cell_type": "markdown",
   "metadata": {},
   "source": [
    "## Hyperparameter tuning\n",
    "\n",
    "Once you have successfully trained a network you can tune your hyparameters to increase your accuracy.\n",
    "\n",
    "Based on the graphs of the loss function above you should be able to develop some intuition about what hyperparameter adjustments may be necessary. A very noisy loss implies that the learning rate might be too high, while a linearly decreasing loss would suggest that the learning rate may be too low. A large gap between training and validation accuracy would suggest overfitting due to a large model without much regularization. No gap between training and validation accuracy would indicate low model capacity. \n",
    "\n",
    "You will compare networks of two and three layers using the different optimization methods you implemented. \n",
    "\n",
    "The different hyperparameters you can experiment with are:\n",
    "- **Batch size**: We recommend you leave this at 200 initially which is the batch size we used. \n",
    "- **Number of iterations**: You can gain an intuition for how many iterations to run by checking when the validation accuracy plateaus in your train/val accuracy graph.\n",
    "- **Initialization** Weight initialization is very important for neural networks. We used the initialization `W = np.random.randn(n) / sqrt(n)` where `n` is the input dimension for layer corresponding to `W`. We recommend you stick with the given initializations, but you may explore modifying these. Typical initialization practices: http://cs231n.github.io/neural-networks-2/#init\n",
    "- **Learning rate**: Generally from around 1e-4 to 1e-1 is a good range to explore according to our implementation.\n",
    "- **Learning rate decay**: We recommend a 0.95 decay to start.\n",
    "- **Hidden layer size**: You should explore up to around 120 units per layer. For three-layer network, we fixed the two hidden layers to be the same size when obtaining the target numbers. However, you may experiment with having different size hidden layers.\n",
    "- **Regularization coefficient**: We recommend trying values in the range 0 to 0.1. \n",
    "\n",
    "Hints:\n",
    "- After getting a sense of the parameters by trying a few values yourself, you will likely want to write a few for-loops to traverse over a set of hyperparameters.\n",
    "- If you find that your train loss is decreasing, but your train and val accuracy start to decrease rather than increase, your model likely started minimizing the regularization term. To prevent this you will need to decrease the regularization coefficient. "
   ]
  },
  {
   "cell_type": "code",
   "execution_count": 7,
   "metadata": {},
   "outputs": [
    {
     "name": "stdout",
     "output_type": "stream",
     "text": [
      "num_layers = 2, opt = SGD, reg_const = 0.0, hidden_size = 20, learning_rate = 1e-05 | val_acc = 0.8242, test_acc = 0.8166\n",
      "num_layers = 2, opt = SGD, reg_const = 0.0, hidden_size = 20, learning_rate = 0.0001 | val_acc = 0.8688, test_acc = 0.8578\n",
      "num_layers = 2, opt = SGD, reg_const = 0.0, hidden_size = 20, learning_rate = 0.001 | val_acc = 0.8765, test_acc = 0.8698\n",
      "num_layers = 2, opt = SGD, reg_const = 0.0, hidden_size = 20, learning_rate = 0.01 | val_acc = 0.1023, test_acc = 0.1\n",
      "num_layers = 2, opt = SGD, reg_const = 0.0, hidden_size = 20, learning_rate = 0.1 | val_acc = 0.1023, test_acc = 0.1\n",
      "num_layers = 2, opt = SGD, reg_const = 0.0, hidden_size = 32, learning_rate = 1e-05 | val_acc = 0.8206, test_acc = 0.8188\n",
      "num_layers = 2, opt = SGD, reg_const = 0.0, hidden_size = 32, learning_rate = 0.0001 | val_acc = 0.8719, test_acc = 0.866\n",
      "num_layers = 2, opt = SGD, reg_const = 0.0, hidden_size = 32, learning_rate = 0.001 | val_acc = 0.884, test_acc = 0.8762\n",
      "num_layers = 2, opt = SGD, reg_const = 0.0, hidden_size = 32, learning_rate = 0.01 | val_acc = 0.1023, test_acc = 0.1\n",
      "num_layers = 2, opt = SGD, reg_const = 0.0, hidden_size = 32, learning_rate = 0.1 | val_acc = 0.1023, test_acc = 0.1\n",
      "num_layers = 2, opt = SGD, reg_const = 0.0, hidden_size = 48, learning_rate = 1e-05 | val_acc = 0.8254, test_acc = 0.8237\n",
      "num_layers = 2, opt = SGD, reg_const = 0.0, hidden_size = 48, learning_rate = 0.0001 | val_acc = 0.8755, test_acc = 0.8671\n",
      "num_layers = 2, opt = SGD, reg_const = 0.0, hidden_size = 48, learning_rate = 0.001 | val_acc = 0.886, test_acc = 0.8777\n",
      "num_layers = 2, opt = SGD, reg_const = 0.0, hidden_size = 48, learning_rate = 0.01 | val_acc = 0.1023, test_acc = 0.1\n",
      "num_layers = 2, opt = SGD, reg_const = 0.0, hidden_size = 48, learning_rate = 0.1 | val_acc = 0.1023, test_acc = 0.1\n",
      "num_layers = 2, opt = SGD, reg_const = 0.0, hidden_size = 64, learning_rate = 1e-05 | val_acc = 0.8271, test_acc = 0.8194\n",
      "num_layers = 2, opt = SGD, reg_const = 0.0, hidden_size = 64, learning_rate = 0.0001 | val_acc = 0.8749, test_acc = 0.8664\n",
      "num_layers = 2, opt = SGD, reg_const = 0.0, hidden_size = 64, learning_rate = 0.001 | val_acc = 0.8863, test_acc = 0.8815\n",
      "num_layers = 2, opt = SGD, reg_const = 0.0, hidden_size = 64, learning_rate = 0.01 | val_acc = 0.1023, test_acc = 0.1\n",
      "num_layers = 2, opt = SGD, reg_const = 0.0, hidden_size = 64, learning_rate = 0.1 | val_acc = 0.1023, test_acc = 0.1\n",
      "num_layers = 2, opt = SGD, reg_const = 0.0, hidden_size = 100, learning_rate = 1e-05 | val_acc = 0.8348, test_acc = 0.8256\n",
      "num_layers = 2, opt = SGD, reg_const = 0.0, hidden_size = 100, learning_rate = 0.0001 | val_acc = 0.8763, test_acc = 0.8706\n",
      "num_layers = 2, opt = SGD, reg_const = 0.0, hidden_size = 100, learning_rate = 0.001 | val_acc = 0.8931, test_acc = 0.8868\n",
      "num_layers = 2, opt = SGD, reg_const = 0.0, hidden_size = 100, learning_rate = 0.01 | val_acc = 0.1023, test_acc = 0.1\n",
      "num_layers = 2, opt = SGD, reg_const = 0.0, hidden_size = 100, learning_rate = 0.1 | val_acc = 0.1023, test_acc = 0.1\n",
      "num_layers = 2, opt = SGD, reg_const = 0.01, hidden_size = 100, learning_rate = 1e-05 | val_acc = 0.8291, test_acc = 0.8255\n",
      "num_layers = 2, opt = SGD, reg_const = 0.01, hidden_size = 100, learning_rate = 0.0001 | val_acc = 0.8796, test_acc = 0.871\n",
      "num_layers = 2, opt = SGD, reg_const = 0.01, hidden_size = 100, learning_rate = 0.001 | val_acc = 0.8934, test_acc = 0.889\n",
      "num_layers = 2, opt = SGD, reg_const = 0.01, hidden_size = 100, learning_rate = 0.01 | val_acc = 0.1023, test_acc = 0.1\n",
      "num_layers = 2, opt = SGD, reg_const = 0.01, hidden_size = 100, learning_rate = 0.1 | val_acc = 0.1023, test_acc = 0.1\n",
      "num_layers = 2, opt = SGD, reg_const = 0.05, hidden_size = 100, learning_rate = 1e-05 | val_acc = 0.8297, test_acc = 0.8229\n",
      "num_layers = 2, opt = SGD, reg_const = 0.05, hidden_size = 100, learning_rate = 0.0001 | val_acc = 0.8771, test_acc = 0.8692\n",
      "num_layers = 2, opt = SGD, reg_const = 0.05, hidden_size = 100, learning_rate = 0.001 | val_acc = 0.8917, test_acc = 0.8889\n",
      "num_layers = 2, opt = SGD, reg_const = 0.05, hidden_size = 100, learning_rate = 0.01 | val_acc = 0.1023, test_acc = 0.1\n",
      "num_layers = 2, opt = SGD, reg_const = 0.05, hidden_size = 100, learning_rate = 0.1 | val_acc = 0.1023, test_acc = 0.1\n",
      "num_layers = 2, opt = SGD, reg_const = 0.1, hidden_size = 100, learning_rate = 1e-05 | val_acc = 0.8295, test_acc = 0.8239\n",
      "num_layers = 2, opt = SGD, reg_const = 0.1, hidden_size = 100, learning_rate = 0.0001 | val_acc = 0.8746, test_acc = 0.8705\n",
      "num_layers = 2, opt = SGD, reg_const = 0.1, hidden_size = 100, learning_rate = 0.001 | val_acc = 0.8909, test_acc = 0.8879\n",
      "num_layers = 2, opt = SGD, reg_const = 0.1, hidden_size = 100, learning_rate = 0.01 | val_acc = 0.1023, test_acc = 0.1\n",
      "num_layers = 2, opt = SGD, reg_const = 0.1, hidden_size = 100, learning_rate = 0.1 | val_acc = 0.1023, test_acc = 0.1\n",
      "num_layers = 2, opt = SGD, reg_const = 0.2, hidden_size = 100, learning_rate = 1e-05 | val_acc = 0.8325, test_acc = 0.8252\n",
      "num_layers = 2, opt = SGD, reg_const = 0.2, hidden_size = 100, learning_rate = 0.0001 | val_acc = 0.8776, test_acc = 0.869\n",
      "num_layers = 2, opt = SGD, reg_const = 0.2, hidden_size = 100, learning_rate = 0.001 | val_acc = 0.8946, test_acc = 0.8915\n",
      "num_layers = 2, opt = SGD, reg_const = 0.2, hidden_size = 100, learning_rate = 0.01 | val_acc = 0.1023, test_acc = 0.1\n",
      "num_layers = 2, opt = SGD, reg_const = 0.2, hidden_size = 100, learning_rate = 0.1 | val_acc = 0.1023, test_acc = 0.1\n",
      "num_layers = 2, opt = Adam, reg_const = 0.0, hidden_size = 100, learning_rate = 1e-05 | val_acc = 0.8315, test_acc = 0.8262\n",
      "num_layers = 2, opt = Adam, reg_const = 0.0, hidden_size = 100, learning_rate = 0.0001 | val_acc = 0.8804, test_acc = 0.8743\n",
      "num_layers = 2, opt = Adam, reg_const = 0.0, hidden_size = 100, learning_rate = 0.001 | val_acc = 0.8896, test_acc = 0.8886\n",
      "num_layers = 2, opt = Adam, reg_const = 0.0, hidden_size = 100, learning_rate = 0.01 | val_acc = 0.8879, test_acc = 0.8821\n",
      "num_layers = 2, opt = Adam, reg_const = 0.0, hidden_size = 100, learning_rate = 0.1 | val_acc = 0.8644, test_acc = 0.8591\n",
      "num_layers = 2, opt = Adam, reg_const = 0.01, hidden_size = 100, learning_rate = 1e-05 | val_acc = 0.8338, test_acc = 0.8282\n",
      "num_layers = 2, opt = Adam, reg_const = 0.01, hidden_size = 100, learning_rate = 0.0001 | val_acc = 0.8803, test_acc = 0.8752\n",
      "num_layers = 2, opt = Adam, reg_const = 0.01, hidden_size = 100, learning_rate = 0.001 | val_acc = 0.8931, test_acc = 0.8908\n",
      "num_layers = 2, opt = Adam, reg_const = 0.01, hidden_size = 100, learning_rate = 0.01 | val_acc = 0.8853, test_acc = 0.8844\n",
      "num_layers = 2, opt = Adam, reg_const = 0.01, hidden_size = 100, learning_rate = 0.1 | val_acc = 0.8681, test_acc = 0.8643\n",
      "num_layers = 2, opt = Adam, reg_const = 0.05, hidden_size = 100, learning_rate = 1e-05 | val_acc = 0.8325, test_acc = 0.8284\n",
      "num_layers = 2, opt = Adam, reg_const = 0.05, hidden_size = 100, learning_rate = 0.0001 | val_acc = 0.8807, test_acc = 0.8738\n",
      "num_layers = 2, opt = Adam, reg_const = 0.05, hidden_size = 100, learning_rate = 0.001 | val_acc = 0.8945, test_acc = 0.8896\n",
      "num_layers = 2, opt = Adam, reg_const = 0.05, hidden_size = 100, learning_rate = 0.01 | val_acc = 0.8884, test_acc = 0.8843\n",
      "num_layers = 2, opt = Adam, reg_const = 0.05, hidden_size = 100, learning_rate = 0.1 | val_acc = 0.8629, test_acc = 0.8531\n",
      "num_layers = 2, opt = Adam, reg_const = 0.1, hidden_size = 100, learning_rate = 1e-05 | val_acc = 0.8333, test_acc = 0.8264\n",
      "num_layers = 2, opt = Adam, reg_const = 0.1, hidden_size = 100, learning_rate = 0.0001 | val_acc = 0.8793, test_acc = 0.8732\n",
      "num_layers = 2, opt = Adam, reg_const = 0.1, hidden_size = 100, learning_rate = 0.001 | val_acc = 0.896, test_acc = 0.8907\n",
      "num_layers = 2, opt = Adam, reg_const = 0.1, hidden_size = 100, learning_rate = 0.01 | val_acc = 0.8881, test_acc = 0.8883\n",
      "num_layers = 2, opt = Adam, reg_const = 0.1, hidden_size = 100, learning_rate = 0.1 | val_acc = 0.8634, test_acc = 0.8574\n",
      "num_layers = 2, opt = Adam, reg_const = 0.2, hidden_size = 100, learning_rate = 1e-05 | val_acc = 0.833, test_acc = 0.8264\n",
      "num_layers = 2, opt = Adam, reg_const = 0.2, hidden_size = 100, learning_rate = 0.0001 | val_acc = 0.8773, test_acc = 0.8754\n",
      "num_layers = 2, opt = Adam, reg_const = 0.2, hidden_size = 100, learning_rate = 0.001 | val_acc = 0.8959, test_acc = 0.8924\n",
      "num_layers = 2, opt = Adam, reg_const = 0.2, hidden_size = 100, learning_rate = 0.01 | val_acc = 0.8886, test_acc = 0.8859\n",
      "num_layers = 2, opt = Adam, reg_const = 0.2, hidden_size = 100, learning_rate = 0.1 | val_acc = 0.8606, test_acc = 0.852\n",
      "num_layers = 3, opt = SGD, reg_const = 0.0, hidden_size = 100, learning_rate = 1e-05 | val_acc = 0.8287, test_acc = 0.8221\n",
      "num_layers = 3, opt = SGD, reg_const = 0.0, hidden_size = 100, learning_rate = 0.0001 | val_acc = 0.8796, test_acc = 0.8736\n",
      "num_layers = 3, opt = SGD, reg_const = 0.0, hidden_size = 100, learning_rate = 0.001 | val_acc = 0.8885, test_acc = 0.8903\n",
      "num_layers = 3, opt = SGD, reg_const = 0.0, hidden_size = 100, learning_rate = 0.01 | val_acc = 0.1023, test_acc = 0.1\n",
      "num_layers = 3, opt = SGD, reg_const = 0.0, hidden_size = 100, learning_rate = 0.1 | val_acc = 0.1023, test_acc = 0.1\n",
      "num_layers = 3, opt = SGD, reg_const = 0.01, hidden_size = 100, learning_rate = 1e-05 | val_acc = 0.8243, test_acc = 0.8198\n",
      "num_layers = 3, opt = SGD, reg_const = 0.01, hidden_size = 100, learning_rate = 0.0001 | val_acc = 0.8773, test_acc = 0.8736\n",
      "num_layers = 3, opt = SGD, reg_const = 0.01, hidden_size = 100, learning_rate = 0.001 | val_acc = 0.8929, test_acc = 0.8846\n",
      "num_layers = 3, opt = SGD, reg_const = 0.01, hidden_size = 100, learning_rate = 0.01 | val_acc = 0.0955, test_acc = 0.1\n",
      "num_layers = 3, opt = SGD, reg_const = 0.01, hidden_size = 100, learning_rate = 0.1 | val_acc = 0.1023, test_acc = 0.1\n",
      "num_layers = 3, opt = SGD, reg_const = 0.01, hidden_size = 100, learning_rate = 1e-05 | val_acc = 0.8243, test_acc = 0.8198\n",
      "num_layers = 3, opt = SGD, reg_const = 0.01, hidden_size = 100, learning_rate = 0.0001 | val_acc = 0.8773, test_acc = 0.8736\n",
      "num_layers = 3, opt = SGD, reg_const = 0.01, hidden_size = 100, learning_rate = 0.001 | val_acc = 0.8929, test_acc = 0.8846\n",
      "num_layers = 3, opt = SGD, reg_const = 0.01, hidden_size = 100, learning_rate = 0.01 | val_acc = 0.0955, test_acc = 0.1\n",
      "num_layers = 3, opt = SGD, reg_const = 0.01, hidden_size = 100, learning_rate = 0.1 | val_acc = 0.1023, test_acc = 0.1\n",
      "num_layers = 3, opt = SGD, reg_const = 0.05, hidden_size = 100, learning_rate = 1e-05 | val_acc = 0.8315, test_acc = 0.8248\n",
      "num_layers = 3, opt = SGD, reg_const = 0.05, hidden_size = 100, learning_rate = 0.0001 | val_acc = 0.8789, test_acc = 0.8737\n",
      "num_layers = 3, opt = SGD, reg_const = 0.05, hidden_size = 100, learning_rate = 0.001 | val_acc = 0.8917, test_acc = 0.8882\n",
      "num_layers = 3, opt = SGD, reg_const = 0.05, hidden_size = 100, learning_rate = 0.01 | val_acc = 0.1023, test_acc = 0.1\n",
      "num_layers = 3, opt = SGD, reg_const = 0.05, hidden_size = 100, learning_rate = 0.1 | val_acc = 0.1023, test_acc = 0.1\n",
      "num_layers = 3, opt = SGD, reg_const = 0.05, hidden_size = 100, learning_rate = 1e-05 | val_acc = 0.8315, test_acc = 0.8248\n",
      "num_layers = 3, opt = SGD, reg_const = 0.05, hidden_size = 100, learning_rate = 0.0001 | val_acc = 0.8789, test_acc = 0.8737\n",
      "num_layers = 3, opt = SGD, reg_const = 0.05, hidden_size = 100, learning_rate = 0.001 | val_acc = 0.8917, test_acc = 0.8882\n",
      "num_layers = 3, opt = SGD, reg_const = 0.05, hidden_size = 100, learning_rate = 0.01 | val_acc = 0.1023, test_acc = 0.1\n",
      "num_layers = 3, opt = SGD, reg_const = 0.05, hidden_size = 100, learning_rate = 0.1 | val_acc = 0.1023, test_acc = 0.1\n",
      "num_layers = 3, opt = SGD, reg_const = 0.1, hidden_size = 100, learning_rate = 1e-05 | val_acc = 0.8277, test_acc = 0.8221\n",
      "num_layers = 3, opt = SGD, reg_const = 0.1, hidden_size = 100, learning_rate = 0.0001 | val_acc = 0.8796, test_acc = 0.8767\n",
      "num_layers = 3, opt = SGD, reg_const = 0.1, hidden_size = 100, learning_rate = 0.001 | val_acc = 0.892, test_acc = 0.8904\n",
      "num_layers = 3, opt = SGD, reg_const = 0.1, hidden_size = 100, learning_rate = 0.01 | val_acc = 0.1023, test_acc = 0.1\n",
      "num_layers = 3, opt = SGD, reg_const = 0.1, hidden_size = 100, learning_rate = 0.1 | val_acc = 0.1023, test_acc = 0.1\n",
      "num_layers = 3, opt = SGD, reg_const = 0.1, hidden_size = 100, learning_rate = 1e-05 | val_acc = 0.8277, test_acc = 0.8221\n",
      "num_layers = 3, opt = SGD, reg_const = 0.1, hidden_size = 100, learning_rate = 0.0001 | val_acc = 0.8796, test_acc = 0.8767\n",
      "num_layers = 3, opt = SGD, reg_const = 0.1, hidden_size = 100, learning_rate = 0.001 | val_acc = 0.892, test_acc = 0.8904\n",
      "num_layers = 3, opt = SGD, reg_const = 0.1, hidden_size = 100, learning_rate = 0.01 | val_acc = 0.1023, test_acc = 0.1\n",
      "num_layers = 3, opt = SGD, reg_const = 0.1, hidden_size = 100, learning_rate = 0.1 | val_acc = 0.1023, test_acc = 0.1\n",
      "num_layers = 3, opt = SGD, reg_const = 0.2, hidden_size = 100, learning_rate = 1e-05 | val_acc = 0.8291, test_acc = 0.8265\n",
      "num_layers = 3, opt = SGD, reg_const = 0.2, hidden_size = 100, learning_rate = 0.0001 | val_acc = 0.8835, test_acc = 0.873\n",
      "num_layers = 3, opt = SGD, reg_const = 0.2, hidden_size = 100, learning_rate = 0.001 | val_acc = 0.8923, test_acc = 0.89\n",
      "num_layers = 3, opt = SGD, reg_const = 0.2, hidden_size = 100, learning_rate = 0.01 | val_acc = 0.1023, test_acc = 0.1\n",
      "num_layers = 3, opt = SGD, reg_const = 0.2, hidden_size = 100, learning_rate = 0.1 | val_acc = 0.1023, test_acc = 0.1\n",
      "num_layers = 3, opt = SGD, reg_const = 0.2, hidden_size = 100, learning_rate = 1e-05 | val_acc = 0.8291, test_acc = 0.8265\n",
      "num_layers = 3, opt = SGD, reg_const = 0.2, hidden_size = 100, learning_rate = 0.0001 | val_acc = 0.8835, test_acc = 0.873\n",
      "num_layers = 3, opt = SGD, reg_const = 0.2, hidden_size = 100, learning_rate = 0.001 | val_acc = 0.8923, test_acc = 0.89\n",
      "num_layers = 3, opt = SGD, reg_const = 0.2, hidden_size = 100, learning_rate = 0.01 | val_acc = 0.1023, test_acc = 0.1\n",
      "num_layers = 3, opt = SGD, reg_const = 0.2, hidden_size = 100, learning_rate = 0.1 | val_acc = 0.1023, test_acc = 0.1\n",
      "num_layers = 3, opt = Adam, reg_const = 0.0, hidden_size = 100, learning_rate = 1e-05 | val_acc = 0.8313, test_acc = 0.8288\n",
      "num_layers = 3, opt = Adam, reg_const = 0.0, hidden_size = 100, learning_rate = 0.0001 | val_acc = 0.8837, test_acc = 0.8809\n",
      "num_layers = 3, opt = Adam, reg_const = 0.0, hidden_size = 100, learning_rate = 0.001 | val_acc = 0.8911, test_acc = 0.8871\n",
      "num_layers = 3, opt = Adam, reg_const = 0.0, hidden_size = 100, learning_rate = 0.01 | val_acc = 0.8871, test_acc = 0.8818\n",
      "num_layers = 3, opt = Adam, reg_const = 0.0, hidden_size = 100, learning_rate = 0.1 | val_acc = 0.0955, test_acc = 0.1\n",
      "num_layers = 3, opt = Adam, reg_const = 0.0, hidden_size = 100, learning_rate = 1e-05 | val_acc = 0.8313, test_acc = 0.8288\n",
      "num_layers = 3, opt = Adam, reg_const = 0.0, hidden_size = 100, learning_rate = 0.0001 | val_acc = 0.8837, test_acc = 0.8809\n",
      "num_layers = 3, opt = Adam, reg_const = 0.0, hidden_size = 100, learning_rate = 0.001 | val_acc = 0.8911, test_acc = 0.8871\n",
      "num_layers = 3, opt = Adam, reg_const = 0.0, hidden_size = 100, learning_rate = 0.01 | val_acc = 0.8871, test_acc = 0.8818\n",
      "num_layers = 3, opt = Adam, reg_const = 0.0, hidden_size = 100, learning_rate = 0.1 | val_acc = 0.0955, test_acc = 0.1\n",
      "num_layers = 3, opt = Adam, reg_const = 0.01, hidden_size = 100, learning_rate = 1e-05 | val_acc = 0.8351, test_acc = 0.8323\n",
      "num_layers = 3, opt = Adam, reg_const = 0.01, hidden_size = 100, learning_rate = 0.0001 | val_acc = 0.8795, test_acc = 0.875\n",
      "num_layers = 3, opt = Adam, reg_const = 0.01, hidden_size = 100, learning_rate = 0.001 | val_acc = 0.8934, test_acc = 0.8877\n",
      "num_layers = 3, opt = Adam, reg_const = 0.01, hidden_size = 100, learning_rate = 0.01 | val_acc = 0.8869, test_acc = 0.8864\n",
      "num_layers = 3, opt = Adam, reg_const = 0.01, hidden_size = 100, learning_rate = 0.1 | val_acc = 0.0955, test_acc = 0.1\n",
      "num_layers = 3, opt = Adam, reg_const = 0.01, hidden_size = 100, learning_rate = 1e-05 | val_acc = 0.8351, test_acc = 0.8323\n",
      "num_layers = 3, opt = Adam, reg_const = 0.01, hidden_size = 100, learning_rate = 0.0001 | val_acc = 0.8795, test_acc = 0.875\n",
      "num_layers = 3, opt = Adam, reg_const = 0.01, hidden_size = 100, learning_rate = 0.001 | val_acc = 0.8934, test_acc = 0.8877\n",
      "num_layers = 3, opt = Adam, reg_const = 0.01, hidden_size = 100, learning_rate = 0.01 | val_acc = 0.8869, test_acc = 0.8864\n",
      "num_layers = 3, opt = Adam, reg_const = 0.01, hidden_size = 100, learning_rate = 0.1 | val_acc = 0.0955, test_acc = 0.1\n",
      "num_layers = 3, opt = Adam, reg_const = 0.05, hidden_size = 100, learning_rate = 1e-05 | val_acc = 0.838, test_acc = 0.8301\n",
      "num_layers = 3, opt = Adam, reg_const = 0.05, hidden_size = 100, learning_rate = 0.0001 | val_acc = 0.8851, test_acc = 0.8793\n",
      "num_layers = 3, opt = Adam, reg_const = 0.05, hidden_size = 100, learning_rate = 0.001 | val_acc = 0.8927, test_acc = 0.8867\n",
      "num_layers = 3, opt = Adam, reg_const = 0.05, hidden_size = 100, learning_rate = 0.01 | val_acc = 0.8922, test_acc = 0.8841\n",
      "num_layers = 3, opt = Adam, reg_const = 0.05, hidden_size = 100, learning_rate = 0.1 | val_acc = 0.852, test_acc = 0.8455\n",
      "num_layers = 3, opt = Adam, reg_const = 0.05, hidden_size = 100, learning_rate = 1e-05 | val_acc = 0.838, test_acc = 0.8301\n",
      "num_layers = 3, opt = Adam, reg_const = 0.05, hidden_size = 100, learning_rate = 0.0001 | val_acc = 0.8851, test_acc = 0.8793\n",
      "num_layers = 3, opt = Adam, reg_const = 0.05, hidden_size = 100, learning_rate = 0.001 | val_acc = 0.8927, test_acc = 0.8867\n",
      "num_layers = 3, opt = Adam, reg_const = 0.05, hidden_size = 100, learning_rate = 0.01 | val_acc = 0.8922, test_acc = 0.8841\n",
      "num_layers = 3, opt = Adam, reg_const = 0.05, hidden_size = 100, learning_rate = 0.1 | val_acc = 0.852, test_acc = 0.8455\n",
      "num_layers = 3, opt = Adam, reg_const = 0.1, hidden_size = 100, learning_rate = 1e-05 | val_acc = 0.838, test_acc = 0.83\n",
      "num_layers = 3, opt = Adam, reg_const = 0.1, hidden_size = 100, learning_rate = 0.0001 | val_acc = 0.8861, test_acc = 0.8798\n",
      "num_layers = 3, opt = Adam, reg_const = 0.1, hidden_size = 100, learning_rate = 0.001 | val_acc = 0.8953, test_acc = 0.8911\n",
      "num_layers = 3, opt = Adam, reg_const = 0.1, hidden_size = 100, learning_rate = 0.01 | val_acc = 0.8901, test_acc = 0.8846\n",
      "num_layers = 3, opt = Adam, reg_const = 0.1, hidden_size = 100, learning_rate = 0.1 | val_acc = 0.8482, test_acc = 0.836\n",
      "num_layers = 3, opt = Adam, reg_const = 0.1, hidden_size = 100, learning_rate = 1e-05 | val_acc = 0.838, test_acc = 0.83\n",
      "num_layers = 3, opt = Adam, reg_const = 0.1, hidden_size = 100, learning_rate = 0.0001 | val_acc = 0.8861, test_acc = 0.8798\n",
      "num_layers = 3, opt = Adam, reg_const = 0.1, hidden_size = 100, learning_rate = 0.001 | val_acc = 0.8953, test_acc = 0.8911\n",
      "num_layers = 3, opt = Adam, reg_const = 0.1, hidden_size = 100, learning_rate = 0.01 | val_acc = 0.8901, test_acc = 0.8846\n",
      "num_layers = 3, opt = Adam, reg_const = 0.1, hidden_size = 100, learning_rate = 0.1 | val_acc = 0.8482, test_acc = 0.836\n",
      "num_layers = 3, opt = Adam, reg_const = 0.2, hidden_size = 100, learning_rate = 1e-05 | val_acc = 0.8352, test_acc = 0.834\n",
      "num_layers = 3, opt = Adam, reg_const = 0.2, hidden_size = 100, learning_rate = 0.0001 | val_acc = 0.8823, test_acc = 0.8792\n",
      "num_layers = 3, opt = Adam, reg_const = 0.2, hidden_size = 100, learning_rate = 0.001 | val_acc = 0.8927, test_acc = 0.8918\n",
      "num_layers = 3, opt = Adam, reg_const = 0.2, hidden_size = 100, learning_rate = 0.01 | val_acc = 0.8875, test_acc = 0.8843\n",
      "num_layers = 3, opt = Adam, reg_const = 0.2, hidden_size = 100, learning_rate = 0.1 | val_acc = 0.8562, test_acc = 0.8513\n",
      "num_layers = 3, opt = Adam, reg_const = 0.2, hidden_size = 100, learning_rate = 1e-05 | val_acc = 0.8352, test_acc = 0.834\n",
      "num_layers = 3, opt = Adam, reg_const = 0.2, hidden_size = 100, learning_rate = 0.0001 | val_acc = 0.8823, test_acc = 0.8792\n",
      "num_layers = 3, opt = Adam, reg_const = 0.2, hidden_size = 100, learning_rate = 0.001 | val_acc = 0.8927, test_acc = 0.8918\n",
      "num_layers = 3, opt = Adam, reg_const = 0.2, hidden_size = 100, learning_rate = 0.01 | val_acc = 0.8875, test_acc = 0.8843\n",
      "num_layers = 3, opt = Adam, reg_const = 0.2, hidden_size = 100, learning_rate = 0.1 | val_acc = 0.8562, test_acc = 0.8513\n",
      "Training complete...\n"
     ]
    }
   ],
   "source": [
    "reg_consts = [0.0, 0.01, 0.05, 0.1, 0.2]\n",
    "hidden_sizes = [20, 32, 48, 64, 100]\n",
    "learning_rates = [1e-5, 1e-4, 1e-3, 1e-2, 1e-1]\n",
    "\n",
    "accuracies = {}\n",
    "\n",
    "# Train the model for each combination of hyperparameters (Do not attempt to run this cell, it will\n",
    "# take more than 24 hours to run). I can provide you all model.npy checkpoints if you want to verify them\n",
    "for num_layers in [2, 3]:\n",
    "    for opt in [\"SGD\", \"Adam\"]:\n",
    "        for reg_const in reg_consts:\n",
    "            for hidden_size in hidden_sizes:\n",
    "                for learning_rate in learning_rates:\n",
    "                    file_name = f'checkpoints/{num_layers}_{opt}_{reg_const}_{hidden_size}_{learning_rate}.npy'\n",
    "                    if os.path.exists(file_name):\n",
    "                        input_size = 28 * 28\n",
    "                        num_classes = 10\n",
    "                        hidden_sizes = [hidden_size] * (num_layers - 1)\n",
    "                        \n",
    "                        # Initialize a new neural network model\n",
    "                        net = NeuralNetwork(input_size, hidden_sizes, num_classes, num_layers)\n",
    "                        net.load_checkpoint(file_name)\n",
    "                    else:\n",
    "                        train_loss, train_acc, val_acc, net = train(num_layers, hidden_size, learning_rate, reg_const, opt)\n",
    "                        net.save_checkpoint(file_name)\n",
    "\n",
    "                    val_acc, test_acc = get_acc(net)\n",
    "                    accuracies[(num_layers, opt, reg_const, hidden_size, learning_rate)] = (val_acc, test_acc)\n",
    "                    # print(f'num_layers = {num_layers}, opt = {opt}, reg_const = {reg_const}, hidden_size = {hidden_size}, ' +\n",
    "                    #     f'learning_rate = {learning_rate} | val_acc = {val_acc}, test_acc = {test_acc}')\n",
    "\n",
    "print(\"Training complete...\")"
   ]
  },
  {
   "cell_type": "code",
   "execution_count": 16,
   "metadata": {},
   "outputs": [
    {
     "name": "stdout",
     "output_type": "stream",
     "text": [
      "Best test accuracies:\n"
     ]
    },
    {
     "data": {
      "text/plain": [
       "{(2, 'SGD'): ((2, 'SGD', 0.2, 100, 0.001), 0.8915),\n",
       " (2, 'Adam'): ((2, 'Adam', 0.2, 100, 0.001), 0.8924),\n",
       " (3, 'SGD'): ((3, 'SGD', 0.1, 100, 0.001), 0.8904),\n",
       " (3, 'Adam'): ((3, 'Adam', 0.2, 100, 0.001), 0.8918)}"
      ]
     },
     "execution_count": 16,
     "metadata": {},
     "output_type": "execute_result"
    }
   ],
   "source": [
    "best_test_accuracies = {}\n",
    "\n",
    "for num_layers in [2, 3]:\n",
    "    for opt in [\"SGD\", \"Adam\"]:\n",
    "        highest_test_acc = 0\n",
    "        highest_params = None\n",
    "\n",
    "        for reg_const in reg_consts:\n",
    "            for hidden_size in hidden_sizes:\n",
    "                for learning_rate in learning_rates:\n",
    "                    if accuracies[(num_layers, opt, reg_const, hidden_size, learning_rate)][1] > highest_test_acc:\n",
    "                        highest_test_acc = accuracies[(num_layers, opt, reg_const, hidden_size, learning_rate)][1]\n",
    "                        highest_params = (num_layers, opt, reg_const, hidden_size, learning_rate)\n",
    "        best_test_accuracies[(num_layers, opt)] = (highest_params, highest_test_acc)\n",
    "        \n",
    "print(\"Best test accuracies:\")\n",
    "best_test_accuracies"
   ]
  },
  {
   "cell_type": "code",
   "execution_count": 19,
   "metadata": {},
   "outputs": [
    {
     "name": "stdout",
     "output_type": "stream",
     "text": [
      "Best validation accuracies:\n"
     ]
    },
    {
     "data": {
      "text/plain": [
       "{(2, 'SGD'): 0.8946,\n",
       " (2, 'Adam'): 0.8959,\n",
       " (3, 'SGD'): 0.892,\n",
       " (3, 'Adam'): 0.8927}"
      ]
     },
     "execution_count": 19,
     "metadata": {},
     "output_type": "execute_result"
    }
   ],
   "source": [
    "best_val_accuracies = {}\n",
    "\n",
    "for key, value in best_test_accuracies.items():\n",
    "    best_val_accuracies[key] = accuracies[value[0]][0]\n",
    "\n",
    "print(\"Best validation accuracies:\")\n",
    "best_val_accuracies"
   ]
  },
  {
   "cell_type": "code",
   "execution_count": 9,
   "metadata": {},
   "outputs": [],
   "source": [
    "def get_test_prediction(hyper_params):\n",
    "    global X_test\n",
    "\n",
    "    num_layers, opt, reg_const, hidden_size, learning_rate = hyper_params\n",
    "    file_name = f'checkpoints/{num_layers}_{opt}_{reg_const}_{hidden_size}_{learning_rate}.npy'\n",
    "\n",
    "    input_size = 28 * 28\n",
    "    num_classes = 10\n",
    "    hidden_sizes = [hidden_size] * (num_layers - 1)\n",
    "    \n",
    "    # Initialize a new neural network model\n",
    "    net = NeuralNetwork(input_size, hidden_sizes, num_classes, num_layers)\n",
    "    net.load_checkpoint(file_name)\n",
    "    score = net.forward(X_test)\n",
    "    y_pred = np.argmax(score, axis=1)\n",
    "\n",
    "    return y_pred\n",
    "    "
   ]
  },
  {
   "cell_type": "markdown",
   "metadata": {},
   "source": [
    "## Run on the test set\n",
    "When you are done experimenting, you should evaluate your final trained networks on the test set."
   ]
  },
  {
   "cell_type": "code",
   "execution_count": 22,
   "metadata": {},
   "outputs": [],
   "source": [
    "best_2layer_sgd_prediction = get_test_prediction(best_test_accuracies[(2, \"SGD\")][0])\n",
    "best_3layer_sgd_prediction = get_test_prediction(best_test_accuracies[(3, \"SGD\")][0])\n",
    "best_2layer_adam_prediction = get_test_prediction(best_test_accuracies[(2, \"Adam\")][0])\n",
    "best_3layer_adam_prediction = get_test_prediction(best_test_accuracies[(3, \"Adam\")][0])"
   ]
  },
  {
   "cell_type": "code",
   "execution_count": 21,
   "metadata": {},
   "outputs": [
    {
     "name": "stdout",
     "output_type": "stream",
     "text": [
      "Accuracy of best 2-layer SGD model: 0.8915\n",
      "Accuracy of best 3-layer SGD model: 0.8904\n",
      "Accuracy of best 2-layer Adam model: 0.8924\n",
      "Accuracy of best 3-layer Adam model: 0.8918\n"
     ]
    }
   ],
   "source": [
    "y_pred = get_test_prediction(best_test_accuracies[(2, \"SGD\")][0])\n",
    "print(f'Accuracy of best 2-layer SGD model: {(y_pred == y_test).sum() / len(y_test)}')\n",
    "\n",
    "y_pred = get_test_prediction(best_test_accuracies[(3, \"SGD\")][0])\n",
    "print(f'Accuracy of best 3-layer SGD model: {(y_pred == y_test).sum() / len(y_test)}')\n",
    "\n",
    "y_pred = get_test_prediction(best_test_accuracies[(2, \"Adam\")][0])\n",
    "print(f'Accuracy of best 2-layer Adam model: {(y_pred == y_test).sum() / len(y_test)}')\n",
    "\n",
    "y_pred = get_test_prediction(best_test_accuracies[(3, \"Adam\")][0])\n",
    "print(f'Accuracy of best 3-layer Adam model: {(y_pred == y_test).sum() / len(y_test)}')"
   ]
  },
  {
   "cell_type": "markdown",
   "metadata": {},
   "source": [
    "## Kaggle output\n",
    "\n",
    "Once you are satisfied with your solution and test accuracy, output a file to submit your test set predictions to the Kaggle for Assignment 2 Neural Network. Use the following code to do so:"
   ]
  },
  {
   "cell_type": "code",
   "execution_count": 23,
   "metadata": {},
   "outputs": [],
   "source": [
    "output_submission_csv('./nn_2layer_sgd_submission.csv', best_2layer_sgd_prediction)\n",
    "output_submission_csv('./nn_3layer_sgd_submission.csv', best_2layer_sgd_prediction)\n",
    "output_submission_csv('./nn_2layer_adam_submission.csv', best_2layer_sgd_prediction)\n",
    "output_submission_csv('./nn_3layer_adam_submission.csv', best_2layer_sgd_prediction)"
   ]
  },
  {
   "cell_type": "markdown",
   "metadata": {},
   "source": [
    "## Compare SGD and Adam\n",
    "Create graphs to compare training loss and validation accuracy between SGD and Adam. The code is similar to the above code, but instead of comparing train and validation, we are comparing SGD and Adam."
   ]
  },
  {
   "cell_type": "code",
   "execution_count": 53,
   "metadata": {},
   "outputs": [
    {
     "name": "stdout",
     "output_type": "stream",
     "text": [
      "Complete SGD\n",
      "Complete Adam\n"
     ]
    }
   ],
   "source": [
    "training_losses, validation_accuracies = {}, {}\n",
    "for opt in [\"SGD\", \"Adam\"]:\n",
    "    train_loss, train_acc, val_acc, _ = train(3, 32, 0.0001, 0.2, opt)\n",
    "\n",
    "    training_losses[opt] = train_loss\n",
    "    validation_accuracies[opt] = val_acc\n",
    "\n",
    "    print(f'Complete {opt}')"
   ]
  },
  {
   "cell_type": "code",
   "execution_count": 56,
   "metadata": {},
   "outputs": [
    {
     "data": {
      "text/plain": [
       "<matplotlib.legend.Legend at 0x20885aca050>"
      ]
     },
     "execution_count": 56,
     "metadata": {},
     "output_type": "execute_result"
    },
    {
     "data": {
      "image/png": "[encoded data removed]",
      "text/plain": [
       "<Figure size 1800x360 with 2 Axes>"
      ]
     },
     "metadata": {
      "needs_background": "light"
     },
     "output_type": "display_data"
    }
   ],
   "source": [
    "# Attach two plots, one of the training loss for each epoch and one of the validation accuracy \n",
    "# for each epoch. Both plots should have a line for SGD and Adam. Be sure to add a title, \n",
    "# axis labels, and a legend.\n",
    "\n",
    "plt.figure(figsize=(25, 5))\n",
    "plt.subplot(1, 2, 1)\n",
    "plt.title(\"Training Loss\")\n",
    "plt.xlabel(\"Epoch\")\n",
    "plt.ylabel(\"Loss\")\n",
    "plt.plot(training_losses[\"SGD\"], label=\"3-layer SGD\")\n",
    "plt.plot(training_losses[\"Adam\"], label=\"3-layer Adam\")\n",
    "plt.legend()\n",
    "\n",
    "# Attach two plots, one of the training loss for each epoch and one of the validation accuracy \n",
    "# for each epoch. Both plots should have a line for SGD and Adam. Be sure to add a title, \n",
    "# axis labels, and a legend.\n",
    "\n",
    "plt.subplot(1, 2, 2)\n",
    "plt.title(\"Validation Accuracy\")\n",
    "plt.xlabel(\"Epoch\")\n",
    "plt.ylabel(\"Accuracy\")\n",
    "plt.plot(validation_accuracies[\"SGD\"], label=\"3-layer SGD\")\n",
    "plt.plot(validation_accuracies[\"Adam\"], label=\"3-layer Adam\")\n",
    "plt.legend()\n"
   ]
  },
  {
   "cell_type": "code",
   "execution_count": null,
   "metadata": {},
   "outputs": [],
   "source": []
  }
 ],
 "metadata": {
  "kernelspec": {
   "display_name": "Python 3",
   "language": "python",
   "name": "python3"
  },
  "language_info": {
   "codemirror_mode": {
    "name": "ipython",
    "version": 3
   },
   "file_extension": ".py",
   "mimetype": "text/x-python",
   "name": "python",
   "nbconvert_exporter": "python",
   "pygments_lexer": "ipython3",
   "version": "3.10.2"
  }
 },
 "nbformat": 4,
 "nbformat_minor": 1
}
