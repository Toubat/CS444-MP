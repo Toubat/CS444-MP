{
 "cells": [
  {
   "cell_type": "code",
   "execution_count": 13,
   "metadata": {},
   "outputs": [
    {
     "name": "stdout",
     "output_type": "stream",
     "text": [
      "The autoreload extension is already loaded. To reload it, use:\n",
      "  %reload_ext autoreload\n"
     ]
    }
   ],
   "source": [
    "import random\n",
    "import numpy as np\n",
    "from data_process import get_FASHION_data, get_MUSHROOM_data\n",
    "from scipy.spatial import distance\n",
    "from models import Perceptron, SVM, Softmax, Logistic\n",
    "from kaggle_submission import output_submission_csv\n",
    "import matplotlib.pyplot as plt\n",
    "%matplotlib inline\n",
    "\n",
    "# For auto-reloading external modules\n",
    "# See http://stackoverflow.com/questions/1907993/autoreload-of-modules-in-ipython|\n",
    "%load_ext autoreload\n",
    "%autoreload 2"
   ]
  },
  {
   "cell_type": "markdown",
   "metadata": {},
   "source": [
    "# Loading Fashion-MNIST"
   ]
  },
  {
   "cell_type": "markdown",
   "metadata": {},
   "source": [
    "In the following cells we determine the number of images for each split and load the images.\n",
    "<br /> \n",
    "TRAIN_IMAGES + VAL_IMAGES = (0, 60000]\n",
    ", TEST_IMAGES = 10000"
   ]
  },
  {
   "cell_type": "code",
   "execution_count": 2,
   "metadata": {},
   "outputs": [],
   "source": [
    "# You can change these numbers for experimentation\n",
    "# For submission we will use the default values \n",
    "TRAIN_IMAGES = 50000\n",
    "VAL_IMAGES = 10000\n",
    "normalize = True"
   ]
  },
  {
   "cell_type": "code",
   "execution_count": 3,
   "metadata": {},
   "outputs": [],
   "source": [
    "data = get_FASHION_data(TRAIN_IMAGES, VAL_IMAGES, normalize=normalize)\n",
    "X_train_fashion, y_train_fashion = data['X_train'], data['y_train']\n",
    "X_val_fashion, y_val_fashion = data['X_val'], data['y_val']\n",
    "X_test_fashion, y_test_fashion = data['X_test'], data['y_test']\n",
    "n_class_fashion = len(np.unique(y_test_fashion))"
   ]
  },
  {
   "cell_type": "code",
   "execution_count": 4,
   "metadata": {},
   "outputs": [
    {
     "data": {
      "text/plain": [
       "10"
      ]
     },
     "execution_count": 4,
     "metadata": {},
     "output_type": "execute_result"
    }
   ],
   "source": [
    "n_class_fashion"
   ]
  },
  {
   "cell_type": "markdown",
   "metadata": {},
   "source": [
    "# Loading Mushroom"
   ]
  },
  {
   "cell_type": "markdown",
   "metadata": {},
   "source": [
    "In the following cells we determine the splitting of the mushroom dataset.\n",
    "<br /> TRAINING + VALIDATION = 0.8, TESTING = 0.2"
   ]
  },
  {
   "cell_type": "code",
   "execution_count": 5,
   "metadata": {},
   "outputs": [],
   "source": [
    "# TRAINING = 0.6 indicates 60% of the data is used as the training dataset.\n",
    "VALIDATION = 0.2"
   ]
  },
  {
   "cell_type": "code",
   "execution_count": 6,
   "metadata": {},
   "outputs": [
    {
     "name": "stdout",
     "output_type": "stream",
     "text": [
      "Number of train samples:  4874\n",
      "Number of val samples:  1625\n",
      "Number of test samples:  1625\n"
     ]
    }
   ],
   "source": [
    "data = get_MUSHROOM_data(VALIDATION)\n",
    "X_train_MR, y_train_MR = data['X_train'], data['y_train']\n",
    "X_val_MR, y_val_MR = data['X_val'], data['y_val']\n",
    "X_test_MR, y_test_MR = data['X_test'], data['y_test']\n",
    "n_class_MR = len(np.unique(y_test_MR))\n",
    "\n",
    "print(\"Number of train samples: \", X_train_MR.shape[0])\n",
    "print(\"Number of val samples: \", X_val_MR.shape[0])\n",
    "print(\"Number of test samples: \", X_test_MR.shape[0])"
   ]
  },
  {
   "cell_type": "markdown",
   "metadata": {},
   "source": [
    "### Get Accuracy"
   ]
  },
  {
   "cell_type": "code",
   "execution_count": 7,
   "metadata": {},
   "outputs": [
    {
     "data": {
      "text/plain": [
       "(50000, 784)"
      ]
     },
     "execution_count": 7,
     "metadata": {},
     "output_type": "execute_result"
    }
   ],
   "source": [
    "n_class_MR\n",
    "X_train_fashion.shape"
   ]
  },
  {
   "cell_type": "markdown",
   "metadata": {},
   "source": [
    "This function computes how well your model performs using accuracy as a metric."
   ]
  },
  {
   "cell_type": "code",
   "execution_count": 8,
   "metadata": {},
   "outputs": [],
   "source": [
    "def get_acc(pred, y_test):\n",
    "    return np.sum(y_test == pred) / len(y_test) * 100"
   ]
  },
  {
   "cell_type": "code",
   "execution_count": 9,
   "metadata": {},
   "outputs": [],
   "source": [
    "def plot_accuracy_vs_lr(accuracy: np.ndarray, learning_rates: np.ndarray):\n",
    "    # accuracy.shape = (n_epochs, learning_rate) where each column represent a learning rate\n",
    "    # x-axis is epoch, and y-axis is accuracy\n",
    "    epochs = np.arange(1, accuracy.shape[0] + 1)\n",
    "    plt.figure(figsize=(10, 5))\n",
    "    for i in range(accuracy.shape[1]):\n",
    "        plt.plot(epochs, accuracy[:, i], label=f\"learning rate = {learning_rates[i]}\")\n",
    "\n",
    "    fig = plt.gcf()\n",
    "    fig.set_size_inches(10, 6)\n",
    "    plt.title(\"Accuracy vs Epochs\")\n",
    "    plt.xlabel(\"Epochs\")\n",
    "    plt.ylabel(\"Accuracy\")\n",
    "    plt.legend()\n",
    "    plt.show()\n",
    "    "
   ]
  },
  {
   "cell_type": "markdown",
   "metadata": {},
   "source": [
    "# Perceptron"
   ]
  },
  {
   "cell_type": "markdown",
   "metadata": {},
   "source": [
    "Perceptron has 2 hyperparameters that you can experiment with:\n",
    "- **Learning rate** - controls how much we change the current weights of the classifier during each update. We set it at a default value of 0.5, but you should experiment with different values. We recommend changing the learning rate by factors of 10 and observing how the performance of the classifier changes. You should also try adding a **decay** which slowly reduces the learning rate over each epoch.\n",
    "- **Number of Epochs** - An epoch is a complete iterative pass over all of the data in the dataset. During an epoch we predict a label using the classifier and then update the weights of the classifier according to the perceptron update rule for each sample in the training set. You should try different values for the number of training epochs and report your results."
   ]
  },
  {
   "cell_type": "markdown",
   "metadata": {},
   "source": [
    "You will implement the Perceptron classifier in the **models/perceptron.py**\n",
    "\n",
    "The following code: \n",
    "- Creates an instance of the Perceptron classifier class \n",
    "- The train function of the Perceptron class is trained on the training data\n",
    "- We use the predict function to find the training accuracy as well as the testing accuracy\n"
   ]
  },
  {
   "cell_type": "code",
   "execution_count": 10,
   "metadata": {},
   "outputs": [],
   "source": [
    "learning_rates = [1.5, 0.75, 0.25, 0.1, 0.05]"
   ]
  },
  {
   "cell_type": "markdown",
   "metadata": {},
   "source": [
    "## Train Perceptron on Fashion-MNIST"
   ]
  },
  {
   "cell_type": "markdown",
   "metadata": {},
   "source": [
    "### Training Perceptron with learning rate decay"
   ]
  },
  {
   "cell_type": "code",
   "execution_count": 11,
   "metadata": {},
   "outputs": [
    {
     "name": "stdout",
     "output_type": "stream",
     "text": [
      "Training Perceptron...\n",
      "Epoch 1/100, Accuracy: 49.73%\n",
      "Epoch 2/100, Accuracy: 66.99%\n",
      "Epoch 3/100, Accuracy: 69.22%\n",
      "Epoch 4/100, Accuracy: 71.15%\n",
      "Epoch 5/100, Accuracy: 72.70%\n",
      "Epoch 6/100, Accuracy: 74.42%\n",
      "Epoch 7/100, Accuracy: 75.26%\n",
      "Epoch 8/100, Accuracy: 76.40%\n",
      "Epoch 9/100, Accuracy: 76.55%\n",
      "Epoch 10/100, Accuracy: 77.39%\n",
      "Epoch 11/100, Accuracy: 76.62%\n",
      "Epoch 12/100, Accuracy: 76.98%\n",
      "Epoch 13/100, Accuracy: 76.21%\n",
      "Epoch 14/100, Accuracy: 76.44%\n",
      "Epoch 15/100, Accuracy: 77.13%\n",
      "Epoch 16/100, Accuracy: 77.14%\n",
      "Epoch 17/100, Accuracy: 77.81%\n",
      "Epoch 18/100, Accuracy: 78.18%\n",
      "Epoch 19/100, Accuracy: 78.66%\n",
      "Epoch 20/100, Accuracy: 79.32%\n",
      "Epoch 21/100, Accuracy: 79.46%\n",
      "Epoch 22/100, Accuracy: 80.24%\n",
      "Epoch 23/100, Accuracy: 80.22%\n",
      "Epoch 24/100, Accuracy: 80.80%\n",
      "Epoch 25/100, Accuracy: 80.66%\n",
      "Epoch 26/100, Accuracy: 81.16%\n",
      "Epoch 27/100, Accuracy: 81.03%\n",
      "Epoch 28/100, Accuracy: 81.36%\n",
      "Epoch 29/100, Accuracy: 81.27%\n",
      "Epoch 30/100, Accuracy: 81.45%\n",
      "Epoch 31/100, Accuracy: 81.36%\n",
      "Epoch 32/100, Accuracy: 81.50%\n",
      "Epoch 33/100, Accuracy: 81.44%\n",
      "Epoch 34/100, Accuracy: 81.50%\n",
      "Epoch 35/100, Accuracy: 81.51%\n",
      "Epoch 36/100, Accuracy: 81.59%\n",
      "Epoch 37/100, Accuracy: 81.62%\n",
      "Epoch 38/100, Accuracy: 81.69%\n",
      "Epoch 39/100, Accuracy: 81.69%\n",
      "Epoch 40/100, Accuracy: 81.74%\n",
      "Epoch 41/100, Accuracy: 81.78%\n",
      "Epoch 42/100, Accuracy: 81.79%\n",
      "Epoch 43/100, Accuracy: 81.82%\n",
      "Epoch 44/100, Accuracy: 81.85%\n",
      "Epoch 45/100, Accuracy: 81.88%\n",
      "Epoch 46/100, Accuracy: 81.89%\n",
      "Epoch 47/100, Accuracy: 81.91%\n",
      "Epoch 48/100, Accuracy: 81.96%\n",
      "Epoch 49/100, Accuracy: 81.97%\n",
      "Epoch 50/100, Accuracy: 81.98%\n",
      "Epoch 51/100, Accuracy: 82.02%\n",
      "Epoch 52/100, Accuracy: 82.05%\n",
      "Epoch 53/100, Accuracy: 82.07%\n",
      "Epoch 54/100, Accuracy: 82.08%\n",
      "Epoch 55/100, Accuracy: 82.09%\n",
      "Epoch 56/100, Accuracy: 82.12%\n",
      "Epoch 57/100, Accuracy: 82.13%\n",
      "Epoch 58/100, Accuracy: 82.14%\n",
      "Epoch 59/100, Accuracy: 82.14%\n",
      "Epoch 60/100, Accuracy: 82.14%\n",
      "Epoch 61/100, Accuracy: 82.15%\n",
      "Epoch 62/100, Accuracy: 82.16%\n",
      "Epoch 63/100, Accuracy: 82.17%\n",
      "Epoch 64/100, Accuracy: 82.18%\n",
      "Epoch 65/100, Accuracy: 82.18%\n",
      "Epoch 66/100, Accuracy: 82.20%\n",
      "Epoch 67/100, Accuracy: 82.20%\n",
      "Epoch 68/100, Accuracy: 82.23%\n",
      "Epoch 69/100, Accuracy: 82.22%\n",
      "Epoch 70/100, Accuracy: 82.24%\n",
      "Epoch 71/100, Accuracy: 82.25%\n",
      "Epoch 72/100, Accuracy: 82.25%\n",
      "Epoch 73/100, Accuracy: 82.26%\n",
      "Epoch 74/100, Accuracy: 82.28%\n",
      "Epoch 75/100, Accuracy: 82.30%\n",
      "Epoch 76/100, Accuracy: 82.31%\n",
      "Epoch 77/100, Accuracy: 82.31%\n",
      "Epoch 78/100, Accuracy: 82.32%\n",
      "Epoch 79/100, Accuracy: 82.32%\n",
      "Epoch 80/100, Accuracy: 82.32%\n",
      "Epoch 81/100, Accuracy: 82.33%\n",
      "Epoch 82/100, Accuracy: 82.33%\n",
      "Epoch 83/100, Accuracy: 82.35%\n",
      "Epoch 84/100, Accuracy: 82.36%\n",
      "Epoch 85/100, Accuracy: 82.37%\n",
      "Epoch 86/100, Accuracy: 82.38%\n",
      "Epoch 87/100, Accuracy: 82.40%\n",
      "Epoch 88/100, Accuracy: 82.40%\n",
      "Epoch 89/100, Accuracy: 82.41%\n",
      "Epoch 90/100, Accuracy: 82.41%\n",
      "Epoch 91/100, Accuracy: 82.41%\n",
      "Epoch 92/100, Accuracy: 82.41%\n",
      "Epoch 93/100, Accuracy: 82.42%\n",
      "Epoch 94/100, Accuracy: 82.42%\n",
      "Epoch 95/100, Accuracy: 82.43%\n",
      "Epoch 96/100, Accuracy: 82.44%\n",
      "Epoch 97/100, Accuracy: 82.44%\n",
      "Epoch 98/100, Accuracy: 82.45%\n",
      "Epoch 99/100, Accuracy: 82.45%\n",
      "Epoch 100/100, Accuracy: 82.44%\n",
      "Training Perceptron...\n",
      "Epoch 1/100, Accuracy: 49.73%\n",
      "Epoch 2/100, Accuracy: 66.99%\n",
      "Epoch 3/100, Accuracy: 69.22%\n",
      "Epoch 4/100, Accuracy: 71.15%\n",
      "Epoch 5/100, Accuracy: 72.70%\n",
      "Epoch 6/100, Accuracy: 74.42%\n",
      "Epoch 7/100, Accuracy: 75.26%\n",
      "Epoch 8/100, Accuracy: 76.40%\n",
      "Epoch 9/100, Accuracy: 76.55%\n",
      "Epoch 10/100, Accuracy: 77.39%\n",
      "Epoch 11/100, Accuracy: 76.62%\n",
      "Epoch 12/100, Accuracy: 76.98%\n",
      "Epoch 13/100, Accuracy: 76.21%\n",
      "Epoch 14/100, Accuracy: 76.44%\n",
      "Epoch 15/100, Accuracy: 77.13%\n",
      "Epoch 16/100, Accuracy: 77.14%\n",
      "Epoch 17/100, Accuracy: 77.81%\n",
      "Epoch 18/100, Accuracy: 78.18%\n",
      "Epoch 19/100, Accuracy: 78.66%\n",
      "Epoch 20/100, Accuracy: 79.32%\n",
      "Epoch 21/100, Accuracy: 79.46%\n",
      "Epoch 22/100, Accuracy: 80.24%\n",
      "Epoch 23/100, Accuracy: 80.22%\n",
      "Epoch 24/100, Accuracy: 80.80%\n",
      "Epoch 25/100, Accuracy: 80.66%\n",
      "Epoch 26/100, Accuracy: 81.16%\n",
      "Epoch 27/100, Accuracy: 81.03%\n",
      "Epoch 28/100, Accuracy: 81.36%\n",
      "Epoch 29/100, Accuracy: 81.27%\n",
      "Epoch 30/100, Accuracy: 81.45%\n",
      "Epoch 31/100, Accuracy: 81.36%\n",
      "Epoch 32/100, Accuracy: 81.50%\n",
      "Epoch 33/100, Accuracy: 81.44%\n",
      "Epoch 34/100, Accuracy: 81.50%\n",
      "Epoch 35/100, Accuracy: 81.51%\n",
      "Epoch 36/100, Accuracy: 81.59%\n",
      "Epoch 37/100, Accuracy: 81.62%\n",
      "Epoch 38/100, Accuracy: 81.69%\n",
      "Epoch 39/100, Accuracy: 81.69%\n",
      "Epoch 40/100, Accuracy: 81.74%\n",
      "Epoch 41/100, Accuracy: 81.78%\n",
      "Epoch 42/100, Accuracy: 81.79%\n",
      "Epoch 43/100, Accuracy: 81.82%\n",
      "Epoch 44/100, Accuracy: 81.85%\n",
      "Epoch 45/100, Accuracy: 81.88%\n",
      "Epoch 46/100, Accuracy: 81.89%\n",
      "Epoch 47/100, Accuracy: 81.91%\n",
      "Epoch 48/100, Accuracy: 81.96%\n",
      "Epoch 49/100, Accuracy: 81.97%\n",
      "Epoch 50/100, Accuracy: 81.98%\n",
      "Epoch 51/100, Accuracy: 82.02%\n",
      "Epoch 52/100, Accuracy: 82.05%\n",
      "Epoch 53/100, Accuracy: 82.07%\n",
      "Epoch 54/100, Accuracy: 82.08%\n",
      "Epoch 55/100, Accuracy: 82.09%\n",
      "Epoch 56/100, Accuracy: 82.12%\n",
      "Epoch 57/100, Accuracy: 82.13%\n",
      "Epoch 58/100, Accuracy: 82.14%\n",
      "Epoch 59/100, Accuracy: 82.14%\n",
      "Epoch 60/100, Accuracy: 82.14%\n",
      "Epoch 61/100, Accuracy: 82.15%\n",
      "Epoch 62/100, Accuracy: 82.16%\n",
      "Epoch 63/100, Accuracy: 82.17%\n",
      "Epoch 64/100, Accuracy: 82.18%\n",
      "Epoch 65/100, Accuracy: 82.18%\n",
      "Epoch 66/100, Accuracy: 82.20%\n",
      "Epoch 67/100, Accuracy: 82.20%\n",
      "Epoch 68/100, Accuracy: 82.23%\n",
      "Epoch 69/100, Accuracy: 82.22%\n",
      "Epoch 70/100, Accuracy: 82.24%\n",
      "Epoch 71/100, Accuracy: 82.25%\n",
      "Epoch 72/100, Accuracy: 82.25%\n",
      "Epoch 73/100, Accuracy: 82.26%\n",
      "Epoch 74/100, Accuracy: 82.28%\n",
      "Epoch 75/100, Accuracy: 82.30%\n",
      "Epoch 76/100, Accuracy: 82.31%\n",
      "Epoch 77/100, Accuracy: 82.31%\n",
      "Epoch 78/100, Accuracy: 82.32%\n",
      "Epoch 79/100, Accuracy: 82.32%\n",
      "Epoch 80/100, Accuracy: 82.32%\n",
      "Epoch 81/100, Accuracy: 82.33%\n",
      "Epoch 82/100, Accuracy: 82.33%\n",
      "Epoch 83/100, Accuracy: 82.35%\n",
      "Epoch 84/100, Accuracy: 82.36%\n",
      "Epoch 85/100, Accuracy: 82.37%\n",
      "Epoch 86/100, Accuracy: 82.38%\n",
      "Epoch 87/100, Accuracy: 82.40%\n",
      "Epoch 88/100, Accuracy: 82.40%\n",
      "Epoch 89/100, Accuracy: 82.41%\n",
      "Epoch 90/100, Accuracy: 82.41%\n",
      "Epoch 91/100, Accuracy: 82.41%\n",
      "Epoch 92/100, Accuracy: 82.41%\n",
      "Epoch 93/100, Accuracy: 82.42%\n",
      "Epoch 94/100, Accuracy: 82.42%\n",
      "Epoch 95/100, Accuracy: 82.43%\n",
      "Epoch 96/100, Accuracy: 82.44%\n",
      "Epoch 97/100, Accuracy: 82.44%\n",
      "Epoch 98/100, Accuracy: 82.45%\n",
      "Epoch 99/100, Accuracy: 82.45%\n",
      "Epoch 100/100, Accuracy: 82.44%\n",
      "Training Perceptron...\n",
      "Epoch 1/100, Accuracy: 49.73%\n",
      "Epoch 2/100, Accuracy: 66.99%\n",
      "Epoch 3/100, Accuracy: 69.22%\n",
      "Epoch 4/100, Accuracy: 71.15%\n",
      "Epoch 5/100, Accuracy: 72.70%\n",
      "Epoch 6/100, Accuracy: 74.42%\n",
      "Epoch 7/100, Accuracy: 75.26%\n",
      "Epoch 8/100, Accuracy: 76.40%\n",
      "Epoch 9/100, Accuracy: 76.55%\n",
      "Epoch 10/100, Accuracy: 77.39%\n",
      "Epoch 11/100, Accuracy: 76.62%\n",
      "Epoch 12/100, Accuracy: 76.98%\n",
      "Epoch 13/100, Accuracy: 76.21%\n",
      "Epoch 14/100, Accuracy: 76.44%\n",
      "Epoch 15/100, Accuracy: 77.13%\n",
      "Epoch 16/100, Accuracy: 77.14%\n",
      "Epoch 17/100, Accuracy: 77.81%\n",
      "Epoch 18/100, Accuracy: 78.18%\n",
      "Epoch 19/100, Accuracy: 78.66%\n",
      "Epoch 20/100, Accuracy: 79.32%\n",
      "Epoch 21/100, Accuracy: 79.46%\n",
      "Epoch 22/100, Accuracy: 80.24%\n",
      "Epoch 23/100, Accuracy: 80.22%\n",
      "Epoch 24/100, Accuracy: 80.80%\n",
      "Epoch 25/100, Accuracy: 80.66%\n",
      "Epoch 26/100, Accuracy: 81.16%\n",
      "Epoch 27/100, Accuracy: 81.03%\n",
      "Epoch 28/100, Accuracy: 81.36%\n",
      "Epoch 29/100, Accuracy: 81.27%\n",
      "Epoch 30/100, Accuracy: 81.45%\n",
      "Epoch 31/100, Accuracy: 81.36%\n",
      "Epoch 32/100, Accuracy: 81.50%\n",
      "Epoch 33/100, Accuracy: 81.44%\n",
      "Epoch 34/100, Accuracy: 81.50%\n",
      "Epoch 35/100, Accuracy: 81.51%\n",
      "Epoch 36/100, Accuracy: 81.59%\n",
      "Epoch 37/100, Accuracy: 81.62%\n",
      "Epoch 38/100, Accuracy: 81.69%\n",
      "Epoch 39/100, Accuracy: 81.69%\n",
      "Epoch 40/100, Accuracy: 81.74%\n",
      "Epoch 41/100, Accuracy: 81.78%\n",
      "Epoch 42/100, Accuracy: 81.79%\n",
      "Epoch 43/100, Accuracy: 81.82%\n",
      "Epoch 44/100, Accuracy: 81.85%\n",
      "Epoch 45/100, Accuracy: 81.88%\n",
      "Epoch 46/100, Accuracy: 81.89%\n",
      "Epoch 47/100, Accuracy: 81.90%\n",
      "Epoch 48/100, Accuracy: 81.95%\n",
      "Epoch 49/100, Accuracy: 81.97%\n",
      "Epoch 50/100, Accuracy: 81.98%\n",
      "Epoch 51/100, Accuracy: 82.02%\n",
      "Epoch 52/100, Accuracy: 82.04%\n",
      "Epoch 53/100, Accuracy: 82.07%\n",
      "Epoch 54/100, Accuracy: 82.08%\n",
      "Epoch 55/100, Accuracy: 82.10%\n",
      "Epoch 56/100, Accuracy: 82.13%\n",
      "Epoch 57/100, Accuracy: 82.13%\n",
      "Epoch 58/100, Accuracy: 82.14%\n",
      "Epoch 59/100, Accuracy: 82.14%\n",
      "Epoch 60/100, Accuracy: 82.14%\n",
      "Epoch 61/100, Accuracy: 82.15%\n",
      "Epoch 62/100, Accuracy: 82.16%\n",
      "Epoch 63/100, Accuracy: 82.17%\n",
      "Epoch 64/100, Accuracy: 82.18%\n",
      "Epoch 65/100, Accuracy: 82.18%\n",
      "Epoch 66/100, Accuracy: 82.19%\n",
      "Epoch 67/100, Accuracy: 82.20%\n",
      "Epoch 68/100, Accuracy: 82.23%\n",
      "Epoch 69/100, Accuracy: 82.22%\n",
      "Epoch 70/100, Accuracy: 82.24%\n",
      "Epoch 71/100, Accuracy: 82.25%\n",
      "Epoch 72/100, Accuracy: 82.25%\n",
      "Epoch 73/100, Accuracy: 82.26%\n",
      "Epoch 74/100, Accuracy: 82.28%\n",
      "Epoch 75/100, Accuracy: 82.30%\n",
      "Epoch 76/100, Accuracy: 82.31%\n",
      "Epoch 77/100, Accuracy: 82.31%\n",
      "Epoch 78/100, Accuracy: 82.32%\n",
      "Epoch 79/100, Accuracy: 82.32%\n",
      "Epoch 80/100, Accuracy: 82.32%\n",
      "Epoch 81/100, Accuracy: 82.34%\n",
      "Epoch 82/100, Accuracy: 82.33%\n",
      "Epoch 83/100, Accuracy: 82.34%\n",
      "Epoch 84/100, Accuracy: 82.36%\n",
      "Epoch 85/100, Accuracy: 82.37%\n",
      "Epoch 86/100, Accuracy: 82.38%\n",
      "Epoch 87/100, Accuracy: 82.40%\n",
      "Epoch 88/100, Accuracy: 82.40%\n",
      "Epoch 89/100, Accuracy: 82.41%\n",
      "Epoch 90/100, Accuracy: 82.41%\n",
      "Epoch 91/100, Accuracy: 82.41%\n",
      "Epoch 92/100, Accuracy: 82.41%\n",
      "Epoch 93/100, Accuracy: 82.41%\n",
      "Epoch 94/100, Accuracy: 82.42%\n",
      "Epoch 95/100, Accuracy: 82.43%\n",
      "Epoch 96/100, Accuracy: 82.44%\n",
      "Epoch 97/100, Accuracy: 82.44%\n",
      "Epoch 98/100, Accuracy: 82.44%\n",
      "Epoch 99/100, Accuracy: 82.45%\n",
      "Epoch 100/100, Accuracy: 82.44%\n",
      "Training Perceptron...\n",
      "Epoch 1/100, Accuracy: 49.73%\n",
      "Epoch 2/100, Accuracy: 66.99%\n",
      "Epoch 3/100, Accuracy: 69.22%\n",
      "Epoch 4/100, Accuracy: 71.15%\n",
      "Epoch 5/100, Accuracy: 72.70%\n",
      "Epoch 6/100, Accuracy: 74.42%\n",
      "Epoch 7/100, Accuracy: 75.26%\n",
      "Epoch 8/100, Accuracy: 76.40%\n",
      "Epoch 9/100, Accuracy: 76.55%\n",
      "Epoch 10/100, Accuracy: 77.39%\n",
      "Epoch 11/100, Accuracy: 76.62%\n",
      "Epoch 12/100, Accuracy: 76.98%\n",
      "Epoch 13/100, Accuracy: 76.21%\n",
      "Epoch 14/100, Accuracy: 76.44%\n",
      "Epoch 15/100, Accuracy: 77.13%\n",
      "Epoch 16/100, Accuracy: 77.14%\n",
      "Epoch 17/100, Accuracy: 77.81%\n",
      "Epoch 18/100, Accuracy: 78.18%\n",
      "Epoch 19/100, Accuracy: 78.66%\n",
      "Epoch 20/100, Accuracy: 79.32%\n",
      "Epoch 21/100, Accuracy: 79.47%\n",
      "Epoch 22/100, Accuracy: 80.24%\n",
      "Epoch 23/100, Accuracy: 80.23%\n",
      "Epoch 24/100, Accuracy: 80.80%\n",
      "Epoch 25/100, Accuracy: 80.66%\n",
      "Epoch 26/100, Accuracy: 81.16%\n",
      "Epoch 27/100, Accuracy: 81.02%\n",
      "Epoch 28/100, Accuracy: 81.37%\n",
      "Epoch 29/100, Accuracy: 81.27%\n",
      "Epoch 30/100, Accuracy: 81.46%\n",
      "Epoch 31/100, Accuracy: 81.36%\n",
      "Epoch 32/100, Accuracy: 81.50%\n",
      "Epoch 33/100, Accuracy: 81.43%\n",
      "Epoch 34/100, Accuracy: 81.50%\n",
      "Epoch 35/100, Accuracy: 81.51%\n",
      "Epoch 36/100, Accuracy: 81.60%\n",
      "Epoch 37/100, Accuracy: 81.62%\n",
      "Epoch 38/100, Accuracy: 81.69%\n",
      "Epoch 39/100, Accuracy: 81.68%\n",
      "Epoch 40/100, Accuracy: 81.75%\n",
      "Epoch 41/100, Accuracy: 81.77%\n",
      "Epoch 42/100, Accuracy: 81.79%\n",
      "Epoch 43/100, Accuracy: 81.82%\n",
      "Epoch 44/100, Accuracy: 81.85%\n",
      "Epoch 45/100, Accuracy: 81.89%\n",
      "Epoch 46/100, Accuracy: 81.89%\n",
      "Epoch 47/100, Accuracy: 81.90%\n",
      "Epoch 48/100, Accuracy: 81.95%\n",
      "Epoch 49/100, Accuracy: 81.97%\n",
      "Epoch 50/100, Accuracy: 81.98%\n",
      "Epoch 51/100, Accuracy: 82.02%\n",
      "Epoch 52/100, Accuracy: 82.05%\n",
      "Epoch 53/100, Accuracy: 82.07%\n",
      "Epoch 54/100, Accuracy: 82.08%\n",
      "Epoch 55/100, Accuracy: 82.09%\n",
      "Epoch 56/100, Accuracy: 82.12%\n",
      "Epoch 57/100, Accuracy: 82.13%\n",
      "Epoch 58/100, Accuracy: 82.13%\n",
      "Epoch 59/100, Accuracy: 82.14%\n",
      "Epoch 60/100, Accuracy: 82.14%\n",
      "Epoch 61/100, Accuracy: 82.14%\n",
      "Epoch 62/100, Accuracy: 82.16%\n",
      "Epoch 63/100, Accuracy: 82.17%\n",
      "Epoch 64/100, Accuracy: 82.18%\n",
      "Epoch 65/100, Accuracy: 82.18%\n",
      "Epoch 66/100, Accuracy: 82.19%\n",
      "Epoch 67/100, Accuracy: 82.20%\n",
      "Epoch 68/100, Accuracy: 82.23%\n",
      "Epoch 69/100, Accuracy: 82.23%\n",
      "Epoch 70/100, Accuracy: 82.24%\n",
      "Epoch 71/100, Accuracy: 82.24%\n",
      "Epoch 72/100, Accuracy: 82.25%\n",
      "Epoch 73/100, Accuracy: 82.27%\n",
      "Epoch 74/100, Accuracy: 82.28%\n",
      "Epoch 75/100, Accuracy: 82.30%\n",
      "Epoch 76/100, Accuracy: 82.31%\n",
      "Epoch 77/100, Accuracy: 82.31%\n",
      "Epoch 78/100, Accuracy: 82.32%\n",
      "Epoch 79/100, Accuracy: 82.32%\n",
      "Epoch 80/100, Accuracy: 82.32%\n",
      "Epoch 81/100, Accuracy: 82.34%\n",
      "Epoch 82/100, Accuracy: 82.33%\n",
      "Epoch 83/100, Accuracy: 82.34%\n",
      "Epoch 84/100, Accuracy: 82.36%\n",
      "Epoch 85/100, Accuracy: 82.37%\n",
      "Epoch 86/100, Accuracy: 82.38%\n",
      "Epoch 87/100, Accuracy: 82.40%\n",
      "Epoch 88/100, Accuracy: 82.40%\n",
      "Epoch 89/100, Accuracy: 82.41%\n",
      "Epoch 90/100, Accuracy: 82.41%\n",
      "Epoch 91/100, Accuracy: 82.41%\n",
      "Epoch 92/100, Accuracy: 82.41%\n",
      "Epoch 93/100, Accuracy: 82.41%\n",
      "Epoch 94/100, Accuracy: 82.42%\n",
      "Epoch 95/100, Accuracy: 82.43%\n",
      "Epoch 96/100, Accuracy: 82.43%\n",
      "Epoch 97/100, Accuracy: 82.45%\n",
      "Epoch 98/100, Accuracy: 82.44%\n",
      "Epoch 99/100, Accuracy: 82.45%\n",
      "Epoch 100/100, Accuracy: 82.45%\n",
      "Training Perceptron...\n",
      "Epoch 1/100, Accuracy: 49.73%\n",
      "Epoch 2/100, Accuracy: 66.99%\n",
      "Epoch 3/100, Accuracy: 69.22%\n",
      "Epoch 4/100, Accuracy: 71.15%\n",
      "Epoch 5/100, Accuracy: 72.70%\n",
      "Epoch 6/100, Accuracy: 74.42%\n",
      "Epoch 7/100, Accuracy: 75.26%\n",
      "Epoch 8/100, Accuracy: 76.40%\n",
      "Epoch 9/100, Accuracy: 76.55%\n",
      "Epoch 10/100, Accuracy: 77.39%\n",
      "Epoch 11/100, Accuracy: 76.62%\n",
      "Epoch 12/100, Accuracy: 76.98%\n",
      "Epoch 13/100, Accuracy: 76.21%\n",
      "Epoch 14/100, Accuracy: 76.44%\n",
      "Epoch 15/100, Accuracy: 77.13%\n",
      "Epoch 16/100, Accuracy: 77.14%\n",
      "Epoch 17/100, Accuracy: 77.81%\n",
      "Epoch 18/100, Accuracy: 78.18%\n",
      "Epoch 19/100, Accuracy: 78.66%\n",
      "Epoch 20/100, Accuracy: 79.32%\n",
      "Epoch 21/100, Accuracy: 79.47%\n",
      "Epoch 22/100, Accuracy: 80.24%\n",
      "Epoch 23/100, Accuracy: 80.23%\n",
      "Epoch 24/100, Accuracy: 80.80%\n",
      "Epoch 25/100, Accuracy: 80.66%\n",
      "Epoch 26/100, Accuracy: 81.16%\n",
      "Epoch 27/100, Accuracy: 81.03%\n",
      "Epoch 28/100, Accuracy: 81.37%\n",
      "Epoch 29/100, Accuracy: 81.26%\n",
      "Epoch 30/100, Accuracy: 81.45%\n",
      "Epoch 31/100, Accuracy: 81.36%\n",
      "Epoch 32/100, Accuracy: 81.50%\n",
      "Epoch 33/100, Accuracy: 81.44%\n",
      "Epoch 34/100, Accuracy: 81.52%\n",
      "Epoch 35/100, Accuracy: 81.52%\n",
      "Epoch 36/100, Accuracy: 81.59%\n",
      "Epoch 37/100, Accuracy: 81.62%\n",
      "Epoch 38/100, Accuracy: 81.69%\n",
      "Epoch 39/100, Accuracy: 81.69%\n",
      "Epoch 40/100, Accuracy: 81.75%\n",
      "Epoch 41/100, Accuracy: 81.77%\n",
      "Epoch 42/100, Accuracy: 81.79%\n",
      "Epoch 43/100, Accuracy: 81.82%\n",
      "Epoch 44/100, Accuracy: 81.85%\n",
      "Epoch 45/100, Accuracy: 81.89%\n",
      "Epoch 46/100, Accuracy: 81.89%\n",
      "Epoch 47/100, Accuracy: 81.90%\n",
      "Epoch 48/100, Accuracy: 81.95%\n",
      "Epoch 49/100, Accuracy: 81.97%\n",
      "Epoch 50/100, Accuracy: 81.98%\n",
      "Epoch 51/100, Accuracy: 82.03%\n",
      "Epoch 52/100, Accuracy: 82.05%\n",
      "Epoch 53/100, Accuracy: 82.07%\n",
      "Epoch 54/100, Accuracy: 82.08%\n",
      "Epoch 55/100, Accuracy: 82.10%\n",
      "Epoch 56/100, Accuracy: 82.12%\n",
      "Epoch 57/100, Accuracy: 82.13%\n",
      "Epoch 58/100, Accuracy: 82.14%\n",
      "Epoch 59/100, Accuracy: 82.14%\n",
      "Epoch 60/100, Accuracy: 82.14%\n",
      "Epoch 61/100, Accuracy: 82.15%\n",
      "Epoch 62/100, Accuracy: 82.16%\n",
      "Epoch 63/100, Accuracy: 82.17%\n",
      "Epoch 64/100, Accuracy: 82.17%\n",
      "Epoch 65/100, Accuracy: 82.18%\n",
      "Epoch 66/100, Accuracy: 82.19%\n",
      "Epoch 67/100, Accuracy: 82.20%\n",
      "Epoch 68/100, Accuracy: 82.22%\n",
      "Epoch 69/100, Accuracy: 82.23%\n",
      "Epoch 70/100, Accuracy: 82.25%\n",
      "Epoch 71/100, Accuracy: 82.25%\n",
      "Epoch 72/100, Accuracy: 82.25%\n",
      "Epoch 73/100, Accuracy: 82.26%\n",
      "Epoch 74/100, Accuracy: 82.28%\n",
      "Epoch 75/100, Accuracy: 82.29%\n",
      "Epoch 76/100, Accuracy: 82.31%\n",
      "Epoch 77/100, Accuracy: 82.31%\n",
      "Epoch 78/100, Accuracy: 82.32%\n",
      "Epoch 79/100, Accuracy: 82.33%\n",
      "Epoch 80/100, Accuracy: 82.32%\n",
      "Epoch 81/100, Accuracy: 82.33%\n",
      "Epoch 82/100, Accuracy: 82.33%\n",
      "Epoch 83/100, Accuracy: 82.34%\n",
      "Epoch 84/100, Accuracy: 82.36%\n",
      "Epoch 85/100, Accuracy: 82.37%\n",
      "Epoch 86/100, Accuracy: 82.38%\n",
      "Epoch 87/100, Accuracy: 82.40%\n",
      "Epoch 88/100, Accuracy: 82.40%\n",
      "Epoch 89/100, Accuracy: 82.40%\n",
      "Epoch 90/100, Accuracy: 82.41%\n",
      "Epoch 91/100, Accuracy: 82.41%\n",
      "Epoch 92/100, Accuracy: 82.41%\n",
      "Epoch 93/100, Accuracy: 82.42%\n",
      "Epoch 94/100, Accuracy: 82.42%\n",
      "Epoch 95/100, Accuracy: 82.43%\n",
      "Epoch 96/100, Accuracy: 82.44%\n",
      "Epoch 97/100, Accuracy: 82.44%\n",
      "Epoch 98/100, Accuracy: 82.45%\n",
      "Epoch 99/100, Accuracy: 82.45%\n",
      "Epoch 100/100, Accuracy: 82.45%\n"
     ]
    }
   ],
   "source": [
    "n_epochs = 100\n",
    "lr_accuracy = np.zeros((n_epochs, len(learning_rates)))\n",
    "\n",
    "for i, lr in enumerate(learning_rates):\n",
    "    percept_fashion = Perceptron(n_class_fashion, lr, n_epochs)\n",
    "    accuracy = percept_fashion.train(X_train_fashion, y_train_fashion, X_val_fashion, y_val_fashion)\n",
    "    lr_accuracy[:, i] = accuracy.squeeze()\n"
   ]
  },
  {
   "cell_type": "code",
   "execution_count": 12,
   "metadata": {},
   "outputs": [
    {
     "data": {
      "image/png": "[encoded data removed]",
      "text/plain": [
       "<Figure size 720x432 with 1 Axes>"
      ]
     },
     "metadata": {
      "needs_background": "light"
     },
     "output_type": "display_data"
    }
   ],
   "source": [
    "plot_accuracy_vs_lr(lr_accuracy, learning_rates)"
   ]
  },
  {
   "cell_type": "code",
   "execution_count": 14,
   "metadata": {},
   "outputs": [
    {
     "name": "stdout",
     "output_type": "stream",
     "text": [
      "Training Perceptron...\n",
      "Epoch 1/100, Accuracy: 49.73%\n",
      "Epoch 2/100, Accuracy: 66.99%\n",
      "Epoch 3/100, Accuracy: 69.22%\n",
      "Epoch 4/100, Accuracy: 71.15%\n",
      "Epoch 5/100, Accuracy: 72.70%\n",
      "Epoch 6/100, Accuracy: 74.42%\n",
      "Epoch 7/100, Accuracy: 75.26%\n",
      "Epoch 8/100, Accuracy: 76.39%\n",
      "Epoch 9/100, Accuracy: 76.55%\n",
      "Epoch 10/100, Accuracy: 77.39%\n",
      "Epoch 11/100, Accuracy: 76.63%\n",
      "Epoch 12/100, Accuracy: 76.97%\n",
      "Epoch 13/100, Accuracy: 76.22%\n",
      "Epoch 14/100, Accuracy: 76.43%\n",
      "Epoch 15/100, Accuracy: 77.13%\n",
      "Epoch 16/100, Accuracy: 77.14%\n",
      "Epoch 17/100, Accuracy: 77.81%\n",
      "Epoch 18/100, Accuracy: 78.19%\n",
      "Epoch 19/100, Accuracy: 78.66%\n",
      "Epoch 20/100, Accuracy: 79.31%\n",
      "Epoch 21/100, Accuracy: 79.46%\n",
      "Epoch 22/100, Accuracy: 80.24%\n",
      "Epoch 23/100, Accuracy: 80.21%\n",
      "Epoch 24/100, Accuracy: 80.80%\n",
      "Epoch 25/100, Accuracy: 80.66%\n",
      "Epoch 26/100, Accuracy: 81.16%\n",
      "Epoch 27/100, Accuracy: 81.03%\n",
      "Epoch 28/100, Accuracy: 81.36%\n",
      "Epoch 29/100, Accuracy: 81.26%\n",
      "Epoch 30/100, Accuracy: 81.45%\n",
      "Epoch 31/100, Accuracy: 81.36%\n",
      "Epoch 32/100, Accuracy: 81.50%\n",
      "Epoch 33/100, Accuracy: 81.44%\n",
      "Epoch 34/100, Accuracy: 81.51%\n",
      "Epoch 35/100, Accuracy: 81.52%\n",
      "Epoch 36/100, Accuracy: 81.59%\n",
      "Epoch 37/100, Accuracy: 81.62%\n",
      "Epoch 38/100, Accuracy: 81.69%\n",
      "Epoch 39/100, Accuracy: 81.70%\n",
      "Epoch 40/100, Accuracy: 81.74%\n",
      "Epoch 41/100, Accuracy: 81.77%\n",
      "Epoch 42/100, Accuracy: 81.80%\n",
      "Epoch 43/100, Accuracy: 81.83%\n",
      "Epoch 44/100, Accuracy: 81.85%\n",
      "Epoch 45/100, Accuracy: 81.89%\n",
      "Epoch 46/100, Accuracy: 81.89%\n",
      "Epoch 47/100, Accuracy: 81.91%\n",
      "Epoch 48/100, Accuracy: 81.95%\n",
      "Epoch 49/100, Accuracy: 81.98%\n",
      "Epoch 50/100, Accuracy: 81.98%\n",
      "Epoch 51/100, Accuracy: 82.02%\n",
      "Epoch 52/100, Accuracy: 82.04%\n",
      "Epoch 53/100, Accuracy: 82.07%\n",
      "Epoch 54/100, Accuracy: 82.08%\n",
      "Epoch 55/100, Accuracy: 82.09%\n",
      "Epoch 56/100, Accuracy: 82.12%\n",
      "Epoch 57/100, Accuracy: 82.13%\n",
      "Epoch 58/100, Accuracy: 82.14%\n",
      "Epoch 59/100, Accuracy: 82.14%\n",
      "Epoch 60/100, Accuracy: 82.14%\n",
      "Epoch 61/100, Accuracy: 82.15%\n",
      "Epoch 62/100, Accuracy: 82.16%\n",
      "Epoch 63/100, Accuracy: 82.17%\n",
      "Epoch 64/100, Accuracy: 82.17%\n",
      "Epoch 65/100, Accuracy: 82.18%\n",
      "Epoch 66/100, Accuracy: 82.19%\n",
      "Epoch 67/100, Accuracy: 82.20%\n",
      "Epoch 68/100, Accuracy: 82.22%\n",
      "Epoch 69/100, Accuracy: 82.22%\n",
      "Epoch 70/100, Accuracy: 82.24%\n",
      "Epoch 71/100, Accuracy: 82.25%\n",
      "Epoch 72/100, Accuracy: 82.25%\n",
      "Epoch 73/100, Accuracy: 82.26%\n",
      "Epoch 74/100, Accuracy: 82.28%\n",
      "Epoch 75/100, Accuracy: 82.30%\n",
      "Epoch 76/100, Accuracy: 82.31%\n",
      "Epoch 77/100, Accuracy: 82.31%\n",
      "Epoch 78/100, Accuracy: 82.32%\n",
      "Epoch 79/100, Accuracy: 82.32%\n",
      "Epoch 80/100, Accuracy: 82.33%\n",
      "Epoch 81/100, Accuracy: 82.34%\n",
      "Epoch 82/100, Accuracy: 82.33%\n",
      "Epoch 83/100, Accuracy: 82.35%\n",
      "Epoch 84/100, Accuracy: 82.36%\n",
      "Epoch 85/100, Accuracy: 82.37%\n",
      "Epoch 86/100, Accuracy: 82.39%\n",
      "Epoch 87/100, Accuracy: 82.40%\n",
      "Epoch 88/100, Accuracy: 82.40%\n",
      "Epoch 89/100, Accuracy: 82.41%\n",
      "Epoch 90/100, Accuracy: 82.41%\n",
      "Epoch 91/100, Accuracy: 82.41%\n",
      "Epoch 92/100, Accuracy: 82.41%\n",
      "Epoch 93/100, Accuracy: 82.42%\n",
      "Epoch 94/100, Accuracy: 82.42%\n",
      "Epoch 95/100, Accuracy: 82.43%\n",
      "Epoch 96/100, Accuracy: 82.44%\n",
      "Epoch 97/100, Accuracy: 82.44%\n",
      "Epoch 98/100, Accuracy: 82.44%\n",
      "Epoch 99/100, Accuracy: 82.45%\n",
      "Epoch 100/100, Accuracy: 82.44%\n"
     ]
    }
   ],
   "source": [
    "lr = 0.01\n",
    "n_epochs = 100\n",
    "\n",
    "percept_fashion = Perceptron(n_class_fashion, lr, n_epochs)\n",
    "accuracy = percept_fashion.train(X_train_fashion, y_train_fashion, X_test_fashion, y_test_fashion)"
   ]
  },
  {
   "cell_type": "code",
   "execution_count": 15,
   "metadata": {},
   "outputs": [
    {
     "name": "stdout",
     "output_type": "stream",
     "text": [
      "The training accuracy is given by: 82.444000\n"
     ]
    }
   ],
   "source": [
    "pred_percept = percept_fashion.predict(X_train_fashion)\n",
    "print('The training accuracy is given by: %f' % (get_acc(pred_percept, y_train_fashion)))"
   ]
  },
  {
   "cell_type": "markdown",
   "metadata": {},
   "source": [
    "### Validate Perceptron on Fashion-MNIST"
   ]
  },
  {
   "cell_type": "code",
   "execution_count": 16,
   "metadata": {},
   "outputs": [
    {
     "name": "stdout",
     "output_type": "stream",
     "text": [
      "The validation accuracy is given by: 81.440000\n"
     ]
    }
   ],
   "source": [
    "pred_percept = percept_fashion.predict(X_val_fashion)\n",
    "print('The validation accuracy is given by: %f' % (get_acc(pred_percept, y_val_fashion)))"
   ]
  },
  {
   "cell_type": "markdown",
   "metadata": {},
   "source": [
    "### Test Perceptron on Fashion-MNIST"
   ]
  },
  {
   "cell_type": "code",
   "execution_count": 17,
   "metadata": {},
   "outputs": [
    {
     "name": "stdout",
     "output_type": "stream",
     "text": [
      "The testing accuracy is given by: 81.120000\n"
     ]
    }
   ],
   "source": [
    "pred_percept = percept_fashion.predict(X_test_fashion)\n",
    "print('The testing accuracy is given by: %f' % (get_acc(pred_percept, y_test_fashion)))"
   ]
  },
  {
   "cell_type": "markdown",
   "metadata": {},
   "source": [
    "### Train Perceptron without Exponential Learning Rate Decay"
   ]
  },
  {
   "cell_type": "code",
   "execution_count": 18,
   "metadata": {},
   "outputs": [
    {
     "name": "stdout",
     "output_type": "stream",
     "text": [
      "Training Perceptron...\n",
      "Epoch 1/100, Accuracy: 49.73%\n",
      "Epoch 2/100, Accuracy: 67.15%\n",
      "Epoch 3/100, Accuracy: 69.44%\n",
      "Epoch 4/100, Accuracy: 71.47%\n",
      "Epoch 5/100, Accuracy: 73.30%\n",
      "Epoch 6/100, Accuracy: 75.19%\n",
      "Epoch 7/100, Accuracy: 75.60%\n",
      "Epoch 8/100, Accuracy: 76.93%\n",
      "Epoch 9/100, Accuracy: 74.16%\n",
      "Epoch 10/100, Accuracy: 75.91%\n",
      "Epoch 11/100, Accuracy: 73.84%\n",
      "Epoch 12/100, Accuracy: 74.48%\n",
      "Epoch 13/100, Accuracy: 74.84%\n",
      "Epoch 14/100, Accuracy: 70.67%\n",
      "Epoch 15/100, Accuracy: 68.05%\n",
      "Epoch 16/100, Accuracy: 63.63%\n",
      "Epoch 17/100, Accuracy: 68.27%\n",
      "Epoch 18/100, Accuracy: 69.07%\n",
      "Epoch 19/100, Accuracy: 74.30%\n",
      "Epoch 20/100, Accuracy: 73.89%\n",
      "Epoch 21/100, Accuracy: 75.72%\n",
      "Epoch 22/100, Accuracy: 75.11%\n",
      "Epoch 23/100, Accuracy: 76.10%\n",
      "Epoch 24/100, Accuracy: 75.86%\n",
      "Epoch 25/100, Accuracy: 76.31%\n",
      "Epoch 26/100, Accuracy: 76.35%\n",
      "Epoch 27/100, Accuracy: 76.23%\n",
      "Epoch 28/100, Accuracy: 76.50%\n",
      "Epoch 29/100, Accuracy: 75.65%\n",
      "Epoch 30/100, Accuracy: 75.26%\n",
      "Epoch 31/100, Accuracy: 73.20%\n",
      "Epoch 32/100, Accuracy: 69.58%\n",
      "Epoch 33/100, Accuracy: 68.47%\n",
      "Epoch 34/100, Accuracy: 67.41%\n",
      "Epoch 35/100, Accuracy: 72.62%\n",
      "Epoch 36/100, Accuracy: 76.27%\n",
      "Epoch 37/100, Accuracy: 76.17%\n",
      "Epoch 38/100, Accuracy: 77.49%\n",
      "Epoch 39/100, Accuracy: 76.72%\n",
      "Epoch 40/100, Accuracy: 77.73%\n",
      "Epoch 41/100, Accuracy: 76.68%\n",
      "Epoch 42/100, Accuracy: 77.54%\n",
      "Epoch 43/100, Accuracy: 76.63%\n",
      "Epoch 44/100, Accuracy: 77.22%\n",
      "Epoch 45/100, Accuracy: 76.77%\n",
      "Epoch 46/100, Accuracy: 76.75%\n",
      "Epoch 47/100, Accuracy: 76.77%\n",
      "Epoch 48/100, Accuracy: 75.94%\n",
      "Epoch 49/100, Accuracy: 76.80%\n",
      "Epoch 50/100, Accuracy: 75.62%\n",
      "Epoch 51/100, Accuracy: 76.65%\n",
      "Epoch 52/100, Accuracy: 75.25%\n",
      "Epoch 53/100, Accuracy: 75.87%\n",
      "Epoch 54/100, Accuracy: 73.27%\n",
      "Epoch 55/100, Accuracy: 72.76%\n",
      "Epoch 56/100, Accuracy: 68.43%\n",
      "Epoch 57/100, Accuracy: 69.07%\n",
      "Epoch 58/100, Accuracy: 70.07%\n",
      "Epoch 59/100, Accuracy: 72.96%\n",
      "Epoch 60/100, Accuracy: 77.26%\n",
      "Epoch 61/100, Accuracy: 76.56%\n",
      "Epoch 62/100, Accuracy: 78.58%\n",
      "Epoch 63/100, Accuracy: 77.45%\n",
      "Epoch 64/100, Accuracy: 79.10%\n",
      "Epoch 65/100, Accuracy: 77.56%\n",
      "Epoch 66/100, Accuracy: 79.20%\n",
      "Epoch 67/100, Accuracy: 77.36%\n",
      "Epoch 68/100, Accuracy: 79.05%\n",
      "Epoch 69/100, Accuracy: 77.07%\n",
      "Epoch 70/100, Accuracy: 78.89%\n",
      "Epoch 71/100, Accuracy: 76.72%\n",
      "Epoch 72/100, Accuracy: 78.69%\n",
      "Epoch 73/100, Accuracy: 76.55%\n",
      "Epoch 74/100, Accuracy: 78.63%\n",
      "Epoch 75/100, Accuracy: 76.55%\n",
      "Epoch 76/100, Accuracy: 78.63%\n",
      "Epoch 77/100, Accuracy: 76.62%\n",
      "Epoch 78/100, Accuracy: 78.62%\n",
      "Epoch 79/100, Accuracy: 76.58%\n",
      "Epoch 80/100, Accuracy: 78.17%\n",
      "Epoch 81/100, Accuracy: 76.10%\n",
      "Epoch 82/100, Accuracy: 76.53%\n",
      "Epoch 83/100, Accuracy: 74.18%\n",
      "Epoch 84/100, Accuracy: 72.71%\n",
      "Epoch 85/100, Accuracy: 69.89%\n",
      "Epoch 86/100, Accuracy: 69.08%\n",
      "Epoch 87/100, Accuracy: 69.96%\n",
      "Epoch 88/100, Accuracy: 75.22%\n",
      "Epoch 89/100, Accuracy: 75.05%\n",
      "Epoch 90/100, Accuracy: 78.35%\n",
      "Epoch 91/100, Accuracy: 77.49%\n",
      "Epoch 92/100, Accuracy: 79.62%\n",
      "Epoch 93/100, Accuracy: 78.74%\n",
      "Epoch 94/100, Accuracy: 80.14%\n",
      "Epoch 95/100, Accuracy: 78.75%\n",
      "Epoch 96/100, Accuracy: 79.72%\n",
      "Epoch 97/100, Accuracy: 78.33%\n",
      "Epoch 98/100, Accuracy: 79.23%\n",
      "Epoch 99/100, Accuracy: 77.81%\n",
      "Epoch 100/100, Accuracy: 78.75%\n"
     ]
    }
   ],
   "source": [
    "lr = 0.75\n",
    "n_epochs = 100\n",
    "\n",
    "percept_fashion = Perceptron(n_class_fashion, lr, n_epochs, lr_decay=False)\n",
    "accuracy = percept_fashion.train(X_train_fashion, y_train_fashion, X_test_fashion, y_test_fashion)"
   ]
  },
  {
   "cell_type": "code",
   "execution_count": 19,
   "metadata": {},
   "outputs": [
    {
     "data": {
      "image/png": "[encoded data removed]",
      "text/plain": [
       "<Figure size 720x432 with 1 Axes>"
      ]
     },
     "metadata": {
      "needs_background": "light"
     },
     "output_type": "display_data"
    }
   ],
   "source": [
    "plot_accuracy_vs_lr(accuracy.reshape(100, 1), [lr])"
   ]
  },
  {
   "cell_type": "markdown",
   "metadata": {},
   "source": [
    "### Perceptron_Fashion-MNIST Kaggle Submission\n",
    "\n",
    "Once you are satisfied with your solution and test accuracy, output a file to submit your test set predictions to the Kaggle for Assignment 1 Fashion-MNIST. Use the following code to do so:"
   ]
  },
  {
   "cell_type": "code",
   "execution_count": 155,
   "metadata": {},
   "outputs": [],
   "source": [
    "output_submission_csv('kaggle/perceptron_submission_fashion.csv', percept_fashion.predict(X_test_fashion))"
   ]
  },
  {
   "cell_type": "markdown",
   "metadata": {},
   "source": [
    "## Train Perceptron on Mushroom"
   ]
  },
  {
   "cell_type": "code",
   "execution_count": 20,
   "metadata": {},
   "outputs": [
    {
     "name": "stdout",
     "output_type": "stream",
     "text": [
      "Training Perceptron...\n",
      "Epoch 1/100, Accuracy: 51.68%\n",
      "Epoch 2/100, Accuracy: 75.13%\n",
      "Epoch 3/100, Accuracy: 48.32%\n",
      "Epoch 4/100, Accuracy: 51.68%\n",
      "Epoch 5/100, Accuracy: 65.10%\n",
      "Epoch 6/100, Accuracy: 51.68%\n",
      "Epoch 7/100, Accuracy: 48.28%\n",
      "Epoch 8/100, Accuracy: 51.68%\n",
      "Epoch 9/100, Accuracy: 64.20%\n",
      "Epoch 10/100, Accuracy: 73.35%\n",
      "Epoch 11/100, Accuracy: 74.89%\n",
      "Epoch 12/100, Accuracy: 81.04%\n",
      "Epoch 13/100, Accuracy: 72.73%\n",
      "Epoch 14/100, Accuracy: 81.35%\n",
      "Epoch 15/100, Accuracy: 73.23%\n",
      "Epoch 16/100, Accuracy: 81.66%\n",
      "Epoch 17/100, Accuracy: 75.44%\n",
      "Epoch 18/100, Accuracy: 82.66%\n",
      "Epoch 19/100, Accuracy: 74.39%\n",
      "Epoch 20/100, Accuracy: 82.64%\n",
      "Epoch 21/100, Accuracy: 77.41%\n",
      "Epoch 22/100, Accuracy: 84.67%\n",
      "Epoch 23/100, Accuracy: 76.16%\n",
      "Epoch 24/100, Accuracy: 83.98%\n",
      "Epoch 25/100, Accuracy: 76.88%\n",
      "Epoch 26/100, Accuracy: 84.74%\n",
      "Epoch 27/100, Accuracy: 77.23%\n",
      "Epoch 28/100, Accuracy: 84.86%\n",
      "Epoch 29/100, Accuracy: 77.29%\n",
      "Epoch 30/100, Accuracy: 85.02%\n",
      "Epoch 31/100, Accuracy: 77.62%\n",
      "Epoch 32/100, Accuracy: 85.49%\n",
      "Epoch 33/100, Accuracy: 78.33%\n",
      "Epoch 34/100, Accuracy: 86.36%\n",
      "Epoch 35/100, Accuracy: 79.93%\n",
      "Epoch 36/100, Accuracy: 88.00%\n",
      "Epoch 37/100, Accuracy: 80.80%\n",
      "Epoch 38/100, Accuracy: 88.43%\n",
      "Epoch 39/100, Accuracy: 81.10%\n",
      "Epoch 40/100, Accuracy: 88.51%\n",
      "Epoch 41/100, Accuracy: 81.35%\n",
      "Epoch 42/100, Accuracy: 88.61%\n",
      "Epoch 43/100, Accuracy: 81.80%\n",
      "Epoch 44/100, Accuracy: 88.76%\n",
      "Epoch 45/100, Accuracy: 82.72%\n",
      "Epoch 46/100, Accuracy: 88.53%\n",
      "Epoch 47/100, Accuracy: 83.18%\n",
      "Epoch 48/100, Accuracy: 88.41%\n",
      "Epoch 49/100, Accuracy: 83.89%\n",
      "Epoch 50/100, Accuracy: 88.24%\n",
      "Epoch 51/100, Accuracy: 84.30%\n",
      "Epoch 52/100, Accuracy: 88.26%\n",
      "Epoch 53/100, Accuracy: 85.00%\n",
      "Epoch 54/100, Accuracy: 88.14%\n",
      "Epoch 55/100, Accuracy: 85.56%\n",
      "Epoch 56/100, Accuracy: 87.73%\n",
      "Epoch 57/100, Accuracy: 86.05%\n",
      "Epoch 58/100, Accuracy: 87.57%\n",
      "Epoch 59/100, Accuracy: 86.73%\n",
      "Epoch 60/100, Accuracy: 87.40%\n",
      "Epoch 61/100, Accuracy: 86.99%\n",
      "Epoch 62/100, Accuracy: 87.24%\n",
      "Epoch 63/100, Accuracy: 87.14%\n",
      "Epoch 64/100, Accuracy: 87.32%\n",
      "Epoch 65/100, Accuracy: 87.20%\n",
      "Epoch 66/100, Accuracy: 87.36%\n",
      "Epoch 67/100, Accuracy: 87.28%\n",
      "Epoch 68/100, Accuracy: 87.30%\n",
      "Epoch 69/100, Accuracy: 87.36%\n",
      "Epoch 70/100, Accuracy: 87.40%\n",
      "Epoch 71/100, Accuracy: 87.44%\n",
      "Epoch 72/100, Accuracy: 87.48%\n",
      "Epoch 73/100, Accuracy: 87.44%\n",
      "Epoch 74/100, Accuracy: 87.51%\n",
      "Epoch 75/100, Accuracy: 87.53%\n",
      "Epoch 76/100, Accuracy: 87.53%\n",
      "Epoch 77/100, Accuracy: 87.61%\n",
      "Epoch 78/100, Accuracy: 87.59%\n",
      "Epoch 79/100, Accuracy: 87.57%\n",
      "Epoch 80/100, Accuracy: 87.61%\n",
      "Epoch 81/100, Accuracy: 87.57%\n",
      "Epoch 82/100, Accuracy: 87.63%\n",
      "Epoch 83/100, Accuracy: 87.59%\n",
      "Epoch 84/100, Accuracy: 87.69%\n",
      "Epoch 85/100, Accuracy: 87.65%\n",
      "Epoch 86/100, Accuracy: 87.71%\n",
      "Epoch 87/100, Accuracy: 87.67%\n",
      "Epoch 88/100, Accuracy: 87.75%\n",
      "Epoch 89/100, Accuracy: 87.73%\n",
      "Epoch 90/100, Accuracy: 87.77%\n",
      "Epoch 91/100, Accuracy: 87.77%\n",
      "Epoch 92/100, Accuracy: 87.77%\n",
      "Epoch 93/100, Accuracy: 87.77%\n",
      "Epoch 94/100, Accuracy: 87.77%\n",
      "Epoch 95/100, Accuracy: 87.77%\n",
      "Epoch 96/100, Accuracy: 87.81%\n",
      "Epoch 97/100, Accuracy: 87.79%\n",
      "Epoch 98/100, Accuracy: 87.83%\n",
      "Epoch 99/100, Accuracy: 87.83%\n",
      "Epoch 100/100, Accuracy: 87.85%\n"
     ]
    }
   ],
   "source": [
    "lr = 0.75\n",
    "n_epochs = 100\n",
    "\n",
    "percept_MR = Perceptron(n_class_MR, lr, n_epochs)\n",
    "accuracy = percept_MR.train(X_train_MR, y_train_MR, X_val_MR, y_val_MR)"
   ]
  },
  {
   "cell_type": "code",
   "execution_count": 21,
   "metadata": {},
   "outputs": [
    {
     "name": "stdout",
     "output_type": "stream",
     "text": [
      "The training accuracy is given by: 87.853919\n"
     ]
    }
   ],
   "source": [
    "pred_percept = percept_MR.predict(X_train_MR)\n",
    "print('The training accuracy is given by: %f' % (get_acc(pred_percept, y_train_MR)))"
   ]
  },
  {
   "cell_type": "markdown",
   "metadata": {},
   "source": [
    "### Validate Perceptron on Mushroom"
   ]
  },
  {
   "cell_type": "code",
   "execution_count": 22,
   "metadata": {},
   "outputs": [
    {
     "name": "stdout",
     "output_type": "stream",
     "text": [
      "The validation accuracy is given by: 87.569231\n"
     ]
    }
   ],
   "source": [
    "pred_percept = percept_MR.predict(X_val_MR)\n",
    "print('The validation accuracy is given by: %f' % (get_acc(pred_percept, y_val_MR)))"
   ]
  },
  {
   "cell_type": "markdown",
   "metadata": {},
   "source": [
    "### Test Perceptron on Mushroom"
   ]
  },
  {
   "cell_type": "code",
   "execution_count": 23,
   "metadata": {},
   "outputs": [
    {
     "name": "stdout",
     "output_type": "stream",
     "text": [
      "The testing accuracy is given by: 85.600000\n"
     ]
    }
   ],
   "source": [
    "pred_percept = percept_MR.predict(X_test_MR)\n",
    "print('The testing accuracy is given by: %f' % (get_acc(pred_percept, y_test_MR)))"
   ]
  },
  {
   "cell_type": "markdown",
   "metadata": {},
   "source": [
    "# Support Vector Machines (with SGD)"
   ]
  },
  {
   "cell_type": "markdown",
   "metadata": {},
   "source": [
    "Next, you will implement a \"soft margin\" SVM. In this formulation you will maximize the margin between positive and negative training examples and penalize margin violations using a hinge loss.\n",
    "\n",
    "We will optimize the SVM loss using SGD. This means you must compute the loss function with respect to model weights. You will use this gradient to update the model weights.\n",
    "\n",
    "SVM optimized with SGD has 3 hyperparameters that you can experiment with:\n",
    "- **Learning rate** - similar to as defined above in Perceptron, this parameter scales by how much the weights are changed according to the calculated gradient update. \n",
    "- **Epochs** - similar to as defined above in Perceptron.\n",
    "- **Regularization constant** - Hyperparameter to determine the strength of regularization. In this case it is a coefficient on the term which maximizes the margin. You could try different values. The default value is set to 0.05."
   ]
  },
  {
   "cell_type": "markdown",
   "metadata": {},
   "source": [
    "You will implement the SVM using SGD in the **models/svm.py**\n",
    "\n",
    "The following code: \n",
    "- Creates an instance of the SVM classifier class \n",
    "- The train function of the SVM class is trained on the training data\n",
    "- We use the predict function to find the training accuracy as well as the testing accuracy"
   ]
  },
  {
   "cell_type": "markdown",
   "metadata": {},
   "source": [
    "## Train SVM on Fashion-MNIST"
   ]
  },
  {
   "cell_type": "code",
   "execution_count": 24,
   "metadata": {},
   "outputs": [
    {
     "name": "stdout",
     "output_type": "stream",
     "text": [
      "Training SVM...\n",
      "Epoch 1/50, Accuracy: 74.65\n",
      "Epoch 2/50, Accuracy: 77.62\n",
      "Epoch 3/50, Accuracy: 81.59\n",
      "Epoch 4/50, Accuracy: 81.68\n",
      "Epoch 5/50, Accuracy: 74.86\n",
      "Epoch 6/50, Accuracy: 82.95\n",
      "Epoch 7/50, Accuracy: 81.72\n",
      "Epoch 8/50, Accuracy: 79.08\n",
      "Epoch 9/50, Accuracy: 80.76\n",
      "Epoch 10/50, Accuracy: 81.78\n",
      "Epoch 11/50, Accuracy: 76.60\n",
      "Epoch 12/50, Accuracy: 81.31\n",
      "Epoch 13/50, Accuracy: 79.22\n",
      "Epoch 14/50, Accuracy: 74.78\n",
      "Epoch 15/50, Accuracy: 82.47\n",
      "Epoch 16/50, Accuracy: 82.53\n",
      "Epoch 17/50, Accuracy: 82.17\n",
      "Epoch 18/50, Accuracy: 83.54\n",
      "Epoch 19/50, Accuracy: 83.08\n",
      "Epoch 20/50, Accuracy: 81.74\n",
      "Epoch 21/50, Accuracy: 82.81\n",
      "Epoch 22/50, Accuracy: 83.66\n",
      "Epoch 23/50, Accuracy: 79.52\n",
      "Epoch 24/50, Accuracy: 83.79\n",
      "Epoch 25/50, Accuracy: 80.55\n",
      "Epoch 26/50, Accuracy: 80.57\n",
      "Epoch 27/50, Accuracy: 78.89\n",
      "Epoch 28/50, Accuracy: 75.48\n",
      "Epoch 29/50, Accuracy: 83.39\n",
      "Epoch 30/50, Accuracy: 79.09\n",
      "Epoch 31/50, Accuracy: 83.60\n",
      "Epoch 32/50, Accuracy: 82.43\n",
      "Epoch 33/50, Accuracy: 82.49\n",
      "Epoch 34/50, Accuracy: 79.32\n",
      "Epoch 35/50, Accuracy: 78.98\n",
      "Epoch 36/50, Accuracy: 81.39\n",
      "Epoch 37/50, Accuracy: 80.62\n",
      "Epoch 38/50, Accuracy: 83.45\n",
      "Epoch 39/50, Accuracy: 82.97\n",
      "Epoch 40/50, Accuracy: 78.49\n",
      "Epoch 41/50, Accuracy: 83.24\n",
      "Epoch 42/50, Accuracy: 80.91\n",
      "Epoch 43/50, Accuracy: 81.61\n",
      "Epoch 44/50, Accuracy: 76.08\n",
      "Epoch 45/50, Accuracy: 83.08\n",
      "Epoch 46/50, Accuracy: 80.68\n",
      "Epoch 47/50, Accuracy: 83.58\n",
      "Epoch 48/50, Accuracy: 82.42\n",
      "Epoch 49/50, Accuracy: 83.74\n",
      "Epoch 50/50, Accuracy: 82.11\n"
     ]
    }
   ],
   "source": [
    "lr = 0.05\n",
    "n_epochs = 50\n",
    "reg_const = 0.01\n",
    "batch_size = 1024\n",
    "\n",
    "svm_fashion = SVM(n_class_fashion, lr, n_epochs, reg_const, batch_size)\n",
    "svm_fashion.train(X_train_fashion, y_train_fashion, X_val_fashion, y_val_fashion)\n",
    "svm_fashion.load_weights()"
   ]
  },
  {
   "cell_type": "code",
   "execution_count": 25,
   "metadata": {},
   "outputs": [
    {
     "name": "stdout",
     "output_type": "stream",
     "text": [
      "The training accuracy is given by: 84.878000\n"
     ]
    }
   ],
   "source": [
    "pred_svm = svm_fashion.predict(X_train_fashion)\n",
    "print('The training accuracy is given by: %f' % (get_acc(pred_svm, y_train_fashion)))"
   ]
  },
  {
   "cell_type": "markdown",
   "metadata": {},
   "source": [
    "### Validate SVM on Fashion-MNIST"
   ]
  },
  {
   "cell_type": "code",
   "execution_count": 26,
   "metadata": {},
   "outputs": [
    {
     "name": "stdout",
     "output_type": "stream",
     "text": [
      "The validation accuracy is given by: 83.790000\n"
     ]
    }
   ],
   "source": [
    "pred_svm = svm_fashion.predict(X_val_fashion)\n",
    "print('The validation accuracy is given by: %f' % (get_acc(pred_svm, y_val_fashion)))"
   ]
  },
  {
   "cell_type": "markdown",
   "metadata": {},
   "source": [
    "### Test SVM on Fashion-MNIST"
   ]
  },
  {
   "cell_type": "code",
   "execution_count": 27,
   "metadata": {},
   "outputs": [
    {
     "name": "stdout",
     "output_type": "stream",
     "text": [
      "The testing accuracy is given by: 82.610000\n"
     ]
    }
   ],
   "source": [
    "pred_svm = svm_fashion.predict(X_test_fashion)\n",
    "print('The testing accuracy is given by: %f' % (get_acc(pred_svm, y_test_fashion)))"
   ]
  },
  {
   "cell_type": "markdown",
   "metadata": {},
   "source": [
    "### SVM_Fashion-MNIST Kaggle Submission\n",
    "\n",
    "Once you are satisfied with your solution and test accuracy output a file to submit your test set predictions to the Kaggle for Assignment 1 Fashion-MNIST. Use the following code to do so:"
   ]
  },
  {
   "cell_type": "code",
   "execution_count": 28,
   "metadata": {},
   "outputs": [],
   "source": [
    "output_submission_csv('kaggle/svm_submission_fashion.csv', svm_fashion.predict(X_test_fashion))"
   ]
  },
  {
   "cell_type": "markdown",
   "metadata": {},
   "source": [
    "## Train SVM on Mushroom"
   ]
  },
  {
   "cell_type": "code",
   "execution_count": 32,
   "metadata": {},
   "outputs": [
    {
     "name": "stdout",
     "output_type": "stream",
     "text": [
      "Training SVM...\n",
      "Epoch 1/10, Accuracy: 94.77\n",
      "Epoch 2/10, Accuracy: 93.05\n",
      "Epoch 3/10, Accuracy: 93.66\n",
      "Epoch 4/10, Accuracy: 87.45\n",
      "Epoch 5/10, Accuracy: 93.72\n",
      "Epoch 6/10, Accuracy: 95.63\n",
      "Epoch 7/10, Accuracy: 93.42\n",
      "Epoch 8/10, Accuracy: 87.75\n",
      "Epoch 9/10, Accuracy: 90.22\n",
      "Epoch 10/10, Accuracy: 92.12\n"
     ]
    }
   ],
   "source": [
    "lr = 0.5\n",
    "n_epochs = 10\n",
    "reg_const = 0.001\n",
    "\n",
    "svm_MR = SVM(n_class_MR, lr, n_epochs, reg_const)\n",
    "svm_MR.train(X_train_MR, y_train_MR, X_val_MR, y_val_MR)"
   ]
  },
  {
   "cell_type": "code",
   "execution_count": 33,
   "metadata": {},
   "outputs": [
    {
     "name": "stdout",
     "output_type": "stream",
     "text": [
      "The training accuracy is given by: 93.455068\n"
     ]
    }
   ],
   "source": [
    "pred_svm = svm_MR.predict(X_train_MR)\n",
    "print('The training accuracy is given by: %f' % (get_acc(pred_svm, y_train_MR)))"
   ]
  },
  {
   "cell_type": "markdown",
   "metadata": {},
   "source": [
    "### Validate SVM on Mushroom"
   ]
  },
  {
   "cell_type": "code",
   "execution_count": 34,
   "metadata": {},
   "outputs": [
    {
     "name": "stdout",
     "output_type": "stream",
     "text": [
      "The validation accuracy is given by: 92.123077\n"
     ]
    }
   ],
   "source": [
    "pred_svm = svm_MR.predict(X_val_MR)\n",
    "print('The validation accuracy is given by: %f' % (get_acc(pred_svm, y_val_MR)))"
   ]
  },
  {
   "cell_type": "markdown",
   "metadata": {},
   "source": [
    "## Test SVM on Mushroom"
   ]
  },
  {
   "cell_type": "code",
   "execution_count": 35,
   "metadata": {},
   "outputs": [
    {
     "name": "stdout",
     "output_type": "stream",
     "text": [
      "The testing accuracy is given by: 92.430769\n"
     ]
    }
   ],
   "source": [
    "pred_svm = svm_MR.predict(X_test_MR)\n",
    "print('The testing accuracy is given by: %f' % (get_acc(pred_svm, y_test_MR)))"
   ]
  },
  {
   "cell_type": "markdown",
   "metadata": {},
   "source": [
    "# Softmax Classifier (with SGD)"
   ]
  },
  {
   "cell_type": "markdown",
   "metadata": {
    "collapsed": true
   },
   "source": [
    "Next, you will train a Softmax classifier. This classifier consists of a linear function of the input data followed by a softmax function which outputs a vector of dimension C (number of classes) for each data point. Each entry of the softmax output vector corresponds to a confidence in one of the C classes, and like a probability distribution, the entries of the output vector sum to 1. We use a cross-entropy loss on this sotmax output to train the model. \n",
    "\n",
    "Check the following link as an additional resource on softmax classification: http://cs231n.github.io/linear-classify/#softmax\n",
    "\n",
    "Once again we will train the classifier with SGD. This means you need to compute the gradients of the softmax cross-entropy loss function according to the weights and update the weights using this gradient. Check the following link to help with implementing the gradient updates: https://deepnotes.io/softmax-crossentropy"
   ]
  },
  {
   "cell_type": "markdown",
   "metadata": {},
   "source": [
    "The softmax classifier has 3 hyperparameters that you can experiment with:\n",
    "- **Learning rate** - As above, this controls how much the model weights are updated with respect to their gradient.\n",
    "- **Number of Epochs** - As described for perceptron.\n",
    "- **Regularization constant** - Hyperparameter to determine the strength of regularization. In this case, we minimize the L2 norm of the model weights as regularization, so the regularization constant is a coefficient on the L2 norm in the combined cross-entropy and regularization objective."
   ]
  },
  {
   "cell_type": "markdown",
   "metadata": {},
   "source": [
    "You will implement a softmax classifier using SGD in the **models/softmax.py**\n",
    "\n",
    "The following code: \n",
    "- Creates an instance of the Softmax classifier class \n",
    "- The train function of the Softmax class is trained on the training data\n",
    "- We use the predict function to find the training accuracy as well as the testing accuracy"
   ]
  },
  {
   "cell_type": "markdown",
   "metadata": {},
   "source": [
    "## Train Softmax on Fashion-MNIST"
   ]
  },
  {
   "cell_type": "code",
   "execution_count": 36,
   "metadata": {},
   "outputs": [
    {
     "name": "stdout",
     "output_type": "stream",
     "text": [
      "Training Softmax...\n",
      "Epoch 1/100, Accuracy: 77.82\n",
      "Epoch 2/100, Accuracy: 80.83\n",
      "Epoch 3/100, Accuracy: 81.29\n",
      "Epoch 4/100, Accuracy: 81.44\n",
      "Epoch 5/100, Accuracy: 82.75\n",
      "Epoch 6/100, Accuracy: 83.62\n",
      "Epoch 7/100, Accuracy: 82.81\n",
      "Epoch 8/100, Accuracy: 83.07\n",
      "Epoch 9/100, Accuracy: 83.99\n",
      "Epoch 10/100, Accuracy: 82.95\n",
      "Epoch 11/100, Accuracy: 82.51\n",
      "Epoch 12/100, Accuracy: 83.99\n",
      "Epoch 13/100, Accuracy: 84.14\n",
      "Epoch 14/100, Accuracy: 83.67\n",
      "Epoch 15/100, Accuracy: 82.38\n",
      "Epoch 16/100, Accuracy: 83.70\n",
      "Epoch 17/100, Accuracy: 83.07\n",
      "Epoch 18/100, Accuracy: 83.25\n",
      "Epoch 19/100, Accuracy: 84.14\n",
      "Epoch 20/100, Accuracy: 83.75\n",
      "Epoch 21/100, Accuracy: 84.02\n",
      "Epoch 22/100, Accuracy: 83.26\n",
      "Epoch 23/100, Accuracy: 84.02\n",
      "Epoch 24/100, Accuracy: 83.70\n",
      "Epoch 25/100, Accuracy: 83.08\n",
      "Epoch 26/100, Accuracy: 83.53\n",
      "Epoch 27/100, Accuracy: 83.03\n",
      "Epoch 28/100, Accuracy: 84.20\n",
      "Epoch 29/100, Accuracy: 83.04\n",
      "Epoch 30/100, Accuracy: 83.73\n",
      "Epoch 31/100, Accuracy: 83.75\n",
      "Epoch 32/100, Accuracy: 83.83\n",
      "Epoch 33/100, Accuracy: 84.14\n",
      "Epoch 34/100, Accuracy: 83.74\n",
      "Epoch 35/100, Accuracy: 82.14\n",
      "Epoch 36/100, Accuracy: 83.91\n",
      "Epoch 37/100, Accuracy: 83.87\n",
      "Epoch 38/100, Accuracy: 84.05\n",
      "Epoch 39/100, Accuracy: 83.60\n",
      "Epoch 40/100, Accuracy: 83.82\n",
      "Epoch 41/100, Accuracy: 84.03\n",
      "Epoch 42/100, Accuracy: 83.94\n",
      "Epoch 43/100, Accuracy: 84.34\n",
      "Epoch 44/100, Accuracy: 83.47\n",
      "Epoch 45/100, Accuracy: 84.23\n",
      "Epoch 46/100, Accuracy: 82.92\n",
      "Epoch 47/100, Accuracy: 84.01\n",
      "Epoch 48/100, Accuracy: 82.33\n",
      "Epoch 49/100, Accuracy: 84.49\n",
      "Epoch 50/100, Accuracy: 83.61\n",
      "Epoch 51/100, Accuracy: 83.16\n",
      "Epoch 52/100, Accuracy: 84.28\n",
      "Epoch 53/100, Accuracy: 83.31\n",
      "Epoch 54/100, Accuracy: 83.55\n",
      "Epoch 55/100, Accuracy: 83.32\n",
      "Epoch 56/100, Accuracy: 84.04\n",
      "Epoch 57/100, Accuracy: 83.94\n",
      "Epoch 58/100, Accuracy: 82.86\n",
      "Epoch 59/100, Accuracy: 83.83\n",
      "Epoch 60/100, Accuracy: 83.01\n",
      "Epoch 61/100, Accuracy: 84.32\n",
      "Epoch 62/100, Accuracy: 83.68\n",
      "Epoch 63/100, Accuracy: 83.88\n",
      "Epoch 64/100, Accuracy: 83.55\n",
      "Epoch 65/100, Accuracy: 83.55\n",
      "Epoch 66/100, Accuracy: 83.48\n",
      "Epoch 67/100, Accuracy: 83.49\n",
      "Epoch 68/100, Accuracy: 83.28\n",
      "Epoch 69/100, Accuracy: 83.42\n",
      "Epoch 70/100, Accuracy: 84.06\n",
      "Epoch 71/100, Accuracy: 84.11\n",
      "Epoch 72/100, Accuracy: 84.18\n",
      "Epoch 73/100, Accuracy: 84.38\n",
      "Epoch 74/100, Accuracy: 83.76\n",
      "Epoch 75/100, Accuracy: 82.07\n",
      "Epoch 76/100, Accuracy: 83.81\n",
      "Epoch 77/100, Accuracy: 84.11\n",
      "Epoch 78/100, Accuracy: 83.58\n",
      "Epoch 79/100, Accuracy: 84.21\n",
      "Epoch 80/100, Accuracy: 84.05\n",
      "Epoch 81/100, Accuracy: 82.70\n",
      "Epoch 82/100, Accuracy: 83.18\n",
      "Epoch 83/100, Accuracy: 83.59\n",
      "Epoch 84/100, Accuracy: 83.77\n",
      "Epoch 85/100, Accuracy: 83.95\n",
      "Epoch 86/100, Accuracy: 83.92\n",
      "Epoch 87/100, Accuracy: 83.06\n",
      "Epoch 88/100, Accuracy: 83.29\n",
      "Epoch 89/100, Accuracy: 84.07\n",
      "Epoch 90/100, Accuracy: 83.29\n",
      "Epoch 91/100, Accuracy: 82.90\n",
      "Epoch 92/100, Accuracy: 82.81\n",
      "Epoch 93/100, Accuracy: 83.91\n",
      "Epoch 94/100, Accuracy: 83.88\n",
      "Epoch 95/100, Accuracy: 83.26\n",
      "Epoch 96/100, Accuracy: 83.40\n",
      "Epoch 97/100, Accuracy: 83.39\n",
      "Epoch 98/100, Accuracy: 83.72\n",
      "Epoch 99/100, Accuracy: 84.13\n",
      "Epoch 100/100, Accuracy: 83.61\n"
     ]
    }
   ],
   "source": [
    "lr = 0.005\n",
    "n_epochs = 100\n",
    "reg_const = 0.03\n",
    "batch_size = 2048\n",
    "\n",
    "softmax_fashion = Softmax(n_class_fashion, lr, n_epochs, reg_const, batch_size)\n",
    "softmax_fashion.train(X_train_fashion, y_train_fashion, X_val_fashion, y_val_fashion)"
   ]
  },
  {
   "cell_type": "code",
   "execution_count": 37,
   "metadata": {},
   "outputs": [],
   "source": [
    "softmax_fashion.load_weights('softmax_weights.npy')"
   ]
  },
  {
   "cell_type": "code",
   "execution_count": 38,
   "metadata": {},
   "outputs": [
    {
     "name": "stdout",
     "output_type": "stream",
     "text": [
      "The training accuracy is given by: 86.374000\n"
     ]
    }
   ],
   "source": [
    "pred_softmax = softmax_fashion.predict(X_train_fashion)\n",
    "print('The training accuracy is given by: %f' % (get_acc(pred_softmax, y_train_fashion)))"
   ]
  },
  {
   "cell_type": "markdown",
   "metadata": {},
   "source": [
    "### Validate Softmax on Fashion-MNIST"
   ]
  },
  {
   "cell_type": "code",
   "execution_count": 39,
   "metadata": {},
   "outputs": [
    {
     "name": "stdout",
     "output_type": "stream",
     "text": [
      "The validation accuracy is given by: 84.490000\n"
     ]
    }
   ],
   "source": [
    "pred_softmax = softmax_fashion.predict(X_val_fashion)\n",
    "print('The validation accuracy is given by: %f' % (get_acc(pred_softmax, y_val_fashion)))"
   ]
  },
  {
   "cell_type": "markdown",
   "metadata": {},
   "source": [
    "### Testing Softmax on Fashion-MNIST"
   ]
  },
  {
   "cell_type": "code",
   "execution_count": 41,
   "metadata": {},
   "outputs": [
    {
     "name": "stdout",
     "output_type": "stream",
     "text": [
      "The testing accuracy is given by: 83.290000\n"
     ]
    }
   ],
   "source": [
    "pred_softmax = softmax_fashion.predict(X_test_fashion)\n",
    "print('The testing accuracy is given by: %f' % (get_acc(pred_softmax, y_test_fashion)))"
   ]
  },
  {
   "cell_type": "markdown",
   "metadata": {},
   "source": [
    "### Softmax_Fashion-MNIST Kaggle Submission\n",
    "\n",
    "Once you are satisfied with your solution and test accuracy output a file to submit your test set predictions to the Kaggle for Assignment 1 Fashion-MNIST. Use the following code to do so:"
   ]
  },
  {
   "cell_type": "code",
   "execution_count": 42,
   "metadata": {},
   "outputs": [],
   "source": [
    "output_submission_csv('kaggle/softmax_submission_fashion.csv', softmax_fashion.predict(X_test_fashion))"
   ]
  },
  {
   "cell_type": "markdown",
   "metadata": {},
   "source": [
    "## Train Softmax on Mushroom"
   ]
  },
  {
   "cell_type": "code",
   "execution_count": 46,
   "metadata": {},
   "outputs": [
    {
     "name": "stdout",
     "output_type": "stream",
     "text": [
      "Training Softmax...\n",
      "Epoch 1/10, Accuracy: 92.74\n",
      "Epoch 2/10, Accuracy: 92.25\n",
      "Epoch 3/10, Accuracy: 92.43\n",
      "Epoch 4/10, Accuracy: 93.54\n",
      "Epoch 5/10, Accuracy: 93.85\n",
      "Epoch 6/10, Accuracy: 92.06\n",
      "Epoch 7/10, Accuracy: 91.82\n",
      "Epoch 8/10, Accuracy: 91.38\n",
      "Epoch 9/10, Accuracy: 92.98\n",
      "Epoch 10/10, Accuracy: 91.88\n"
     ]
    }
   ],
   "source": [
    "lr = 0.5\n",
    "n_epochs = 10\n",
    "reg_const = 0.05\n",
    "\n",
    "softmax_MR = Softmax(n_class_MR, lr, n_epochs, reg_const)\n",
    "softmax_MR.train(X_train_MR, y_train_MR, X_val_MR, y_val_MR)"
   ]
  },
  {
   "cell_type": "code",
   "execution_count": 47,
   "metadata": {},
   "outputs": [
    {
     "name": "stdout",
     "output_type": "stream",
     "text": [
      "The training accuracy is given by: 93.229380\n"
     ]
    }
   ],
   "source": [
    "pred_softmax = softmax_MR.predict(X_train_MR)\n",
    "print('The training accuracy is given by: %f' % (get_acc(pred_softmax, y_train_MR)))"
   ]
  },
  {
   "cell_type": "markdown",
   "metadata": {},
   "source": [
    "### Validate Softmax on Mushroom"
   ]
  },
  {
   "cell_type": "code",
   "execution_count": 48,
   "metadata": {},
   "outputs": [
    {
     "name": "stdout",
     "output_type": "stream",
     "text": [
      "The validation accuracy is given by: 91.876923\n"
     ]
    }
   ],
   "source": [
    "pred_softmax = softmax_MR.predict(X_val_MR)\n",
    "print('The validation accuracy is given by: %f' % (get_acc(pred_softmax, y_val_MR)))"
   ]
  },
  {
   "cell_type": "markdown",
   "metadata": {},
   "source": [
    "### Testing Softmax on Mushroom"
   ]
  },
  {
   "cell_type": "code",
   "execution_count": 49,
   "metadata": {},
   "outputs": [
    {
     "name": "stdout",
     "output_type": "stream",
     "text": [
      "The testing accuracy is given by: 93.169231\n"
     ]
    }
   ],
   "source": [
    "pred_softmax = softmax_MR.predict(X_test_MR)\n",
    "print('The testing accuracy is given by: %f' % (get_acc(pred_softmax, y_test_MR)))"
   ]
  },
  {
   "cell_type": "markdown",
   "metadata": {},
   "source": [
    "# Logistic Classifier"
   ]
  },
  {
   "cell_type": "markdown",
   "metadata": {},
   "source": [
    "The Logistic Classifier has 2 hyperparameters that you can experiment with:\n",
    "- **Learning rate** - similar to as defined above in Perceptron, this parameter scales by how much the weights are changed according to the calculated gradient update. \n",
    "- **Number of Epochs** - As described for perceptron.\n",
    "- **Threshold** - The decision boundary of the classifier.\n"
   ]
  },
  {
   "cell_type": "markdown",
   "metadata": {},
   "source": [
    "You will implement the Logistic Classifier in the **models/logistic.py**\n",
    "\n",
    "The following code: \n",
    "- Creates an instance of the Logistic classifier class \n",
    "- The train function of the Logistic class is trained on the training data\n",
    "- We use the predict function to find the training accuracy as well as the testing accuracy"
   ]
  },
  {
   "cell_type": "markdown",
   "metadata": {},
   "source": [
    "### Training Logistic Classifer"
   ]
  },
  {
   "cell_type": "code",
   "execution_count": 50,
   "metadata": {},
   "outputs": [
    {
     "data": {
      "text/plain": [
       "array([1, 0, 0, ..., 1, 1, 0], dtype=int64)"
      ]
     },
     "execution_count": 50,
     "metadata": {},
     "output_type": "execute_result"
    }
   ],
   "source": [
    "y_train_MR"
   ]
  },
  {
   "cell_type": "code",
   "execution_count": 52,
   "metadata": {},
   "outputs": [
    {
     "name": "stderr",
     "output_type": "stream",
     "text": [
      "c:\\Users\\touba\\OneDrive\\桌面\\CS444-MP\\assignment1\\models\\logistic.py:30: RuntimeWarning: overflow encountered in exp\n",
      "  return 1 / (1 + np.exp(-z))\n"
     ]
    },
    {
     "name": "stdout",
     "output_type": "stream",
     "text": [
      "Epoch 1/100, Accuracy: 88.06%\n",
      "Epoch 2/100, Accuracy: 89.54%\n",
      "Epoch 3/100, Accuracy: 90.69%\n",
      "Epoch 4/100, Accuracy: 91.20%\n",
      "Epoch 5/100, Accuracy: 91.85%\n",
      "Epoch 6/100, Accuracy: 92.20%\n",
      "Epoch 7/100, Accuracy: 92.49%\n",
      "Epoch 8/100, Accuracy: 92.76%\n",
      "Epoch 9/100, Accuracy: 93.13%\n",
      "Epoch 10/100, Accuracy: 93.07%\n",
      "Epoch 11/100, Accuracy: 93.25%\n",
      "Epoch 12/100, Accuracy: 93.23%\n",
      "Epoch 13/100, Accuracy: 92.94%\n",
      "Epoch 14/100, Accuracy: 93.66%\n",
      "Epoch 15/100, Accuracy: 90.56%\n",
      "Epoch 16/100, Accuracy: 92.04%\n",
      "Epoch 17/100, Accuracy: 92.39%\n",
      "Epoch 18/100, Accuracy: 91.53%\n",
      "Epoch 19/100, Accuracy: 92.29%\n",
      "Epoch 20/100, Accuracy: 93.29%\n",
      "Epoch 21/100, Accuracy: 90.85%\n",
      "Epoch 22/100, Accuracy: 94.85%\n",
      "Epoch 23/100, Accuracy: 94.85%\n",
      "Epoch 24/100, Accuracy: 88.67%\n",
      "Epoch 25/100, Accuracy: 92.88%\n",
      "Epoch 26/100, Accuracy: 95.32%\n",
      "Epoch 27/100, Accuracy: 94.85%\n",
      "Epoch 28/100, Accuracy: 93.04%\n",
      "Epoch 29/100, Accuracy: 91.85%\n",
      "Epoch 30/100, Accuracy: 79.48%\n",
      "Epoch 31/100, Accuracy: 84.06%\n",
      "Epoch 32/100, Accuracy: 94.32%\n",
      "Epoch 33/100, Accuracy: 94.09%\n",
      "Epoch 34/100, Accuracy: 90.93%\n",
      "Epoch 35/100, Accuracy: 92.24%\n",
      "Epoch 36/100, Accuracy: 95.03%\n",
      "Epoch 37/100, Accuracy: 92.37%\n",
      "Epoch 38/100, Accuracy: 91.10%\n",
      "Epoch 39/100, Accuracy: 94.30%\n",
      "Epoch 40/100, Accuracy: 95.03%\n",
      "Epoch 41/100, Accuracy: 89.66%\n",
      "Epoch 42/100, Accuracy: 89.64%\n",
      "Epoch 43/100, Accuracy: 94.30%\n",
      "Epoch 44/100, Accuracy: 94.85%\n",
      "Epoch 45/100, Accuracy: 93.17%\n",
      "Epoch 46/100, Accuracy: 93.50%\n",
      "Epoch 47/100, Accuracy: 93.07%\n",
      "Epoch 48/100, Accuracy: 80.51%\n",
      "Epoch 49/100, Accuracy: 86.07%\n",
      "Epoch 50/100, Accuracy: 94.81%\n",
      "Epoch 51/100, Accuracy: 93.72%\n",
      "Epoch 52/100, Accuracy: 94.87%\n",
      "Epoch 53/100, Accuracy: 95.18%\n",
      "Epoch 54/100, Accuracy: 94.91%\n",
      "Epoch 55/100, Accuracy: 90.97%\n",
      "Epoch 56/100, Accuracy: 91.03%\n",
      "Epoch 57/100, Accuracy: 95.03%\n",
      "Epoch 58/100, Accuracy: 93.72%\n",
      "Epoch 59/100, Accuracy: 92.24%\n",
      "Epoch 60/100, Accuracy: 91.94%\n",
      "Epoch 61/100, Accuracy: 95.03%\n",
      "Epoch 62/100, Accuracy: 89.23%\n",
      "Epoch 63/100, Accuracy: 93.68%\n",
      "Epoch 64/100, Accuracy: 93.46%\n",
      "Epoch 65/100, Accuracy: 91.71%\n",
      "Epoch 66/100, Accuracy: 86.40%\n",
      "Epoch 67/100, Accuracy: 90.60%\n",
      "Epoch 68/100, Accuracy: 94.71%\n",
      "Epoch 69/100, Accuracy: 94.83%\n",
      "Epoch 70/100, Accuracy: 92.08%\n",
      "Epoch 71/100, Accuracy: 94.56%\n",
      "Epoch 72/100, Accuracy: 92.68%\n",
      "Epoch 73/100, Accuracy: 93.21%\n",
      "Epoch 74/100, Accuracy: 94.38%\n",
      "Epoch 75/100, Accuracy: 90.81%\n",
      "Epoch 76/100, Accuracy: 92.51%\n",
      "Epoch 77/100, Accuracy: 92.31%\n",
      "Epoch 78/100, Accuracy: 93.35%\n",
      "Epoch 79/100, Accuracy: 92.33%\n",
      "Epoch 80/100, Accuracy: 93.37%\n",
      "Epoch 81/100, Accuracy: 92.41%\n",
      "Epoch 82/100, Accuracy: 93.56%\n",
      "Epoch 83/100, Accuracy: 94.03%\n",
      "Epoch 84/100, Accuracy: 89.68%\n",
      "Epoch 85/100, Accuracy: 90.21%\n",
      "Epoch 86/100, Accuracy: 94.93%\n",
      "Epoch 87/100, Accuracy: 94.52%\n",
      "Epoch 88/100, Accuracy: 95.12%\n",
      "Epoch 89/100, Accuracy: 92.82%\n",
      "Epoch 90/100, Accuracy: 94.77%\n",
      "Epoch 91/100, Accuracy: 93.60%\n",
      "Epoch 92/100, Accuracy: 94.50%\n",
      "Epoch 93/100, Accuracy: 92.43%\n",
      "Epoch 94/100, Accuracy: 92.78%\n",
      "Epoch 95/100, Accuracy: 92.94%\n",
      "Epoch 96/100, Accuracy: 89.45%\n",
      "Epoch 97/100, Accuracy: 91.57%\n",
      "Epoch 98/100, Accuracy: 94.67%\n",
      "Epoch 99/100, Accuracy: 93.72%\n",
      "Epoch 100/100, Accuracy: 91.40%\n"
     ]
    }
   ],
   "source": [
    "learning_rate = 0.7\n",
    "n_epochs = 100\n",
    "threshold = 0.5\n",
    "\n",
    "lr = Logistic(learning_rate, n_epochs, threshold)\n",
    "lr.train(X_train_MR, y_train_MR)"
   ]
  },
  {
   "cell_type": "code",
   "execution_count": 53,
   "metadata": {},
   "outputs": [
    {
     "name": "stdout",
     "output_type": "stream",
     "text": [
      "The training accuracy is given by: 91.403365\n"
     ]
    }
   ],
   "source": [
    "pred_lr = lr.predict(X_train_MR)\n",
    "print('The training accuracy is given by: %f' % (get_acc(pred_lr, y_train_MR)))"
   ]
  },
  {
   "cell_type": "markdown",
   "metadata": {},
   "source": [
    "### Validate Logistic Classifer"
   ]
  },
  {
   "cell_type": "code",
   "execution_count": 54,
   "metadata": {},
   "outputs": [
    {
     "name": "stdout",
     "output_type": "stream",
     "text": [
      "The validation accuracy is given by: 93.230769\n"
     ]
    }
   ],
   "source": [
    "pred_lr = lr.predict(X_val_MR)\n",
    "print('The validation accuracy is given by: %f' % (get_acc(pred_lr, y_val_MR)))"
   ]
  },
  {
   "cell_type": "markdown",
   "metadata": {},
   "source": [
    "### Test Logistic Classifier"
   ]
  },
  {
   "cell_type": "code",
   "execution_count": 55,
   "metadata": {},
   "outputs": [
    {
     "name": "stdout",
     "output_type": "stream",
     "text": [
      "The testing accuracy is given by: 92.184615\n"
     ]
    }
   ],
   "source": [
    "pred_lr = lr.predict(X_test_MR)\n",
    "print('The testing accuracy is given by: %f' % (get_acc(pred_lr, y_test_MR)))"
   ]
  },
  {
   "cell_type": "code",
   "execution_count": null,
   "metadata": {},
   "outputs": [],
   "source": []
  },
  {
   "cell_type": "code",
   "execution_count": null,
   "metadata": {},
   "outputs": [],
   "source": []
  }
 ],
 "metadata": {
  "kernelspec": {
   "display_name": "Python 3",
   "language": "python",
   "name": "python3"
  },
  "language_info": {
   "codemirror_mode": {
    "name": "ipython",
    "version": 3
   },
   "file_extension": ".py",
   "mimetype": "text/x-python",
   "name": "python",
   "nbconvert_exporter": "python",
   "pygments_lexer": "ipython3",
   "version": "3.10.2"
  }
 },
 "nbformat": 4,
 "nbformat_minor": 1
}
